{
  "nbformat": 4,
  "nbformat_minor": 0,
  "metadata": {
    "accelerator": "GPU",
    "colab": {
      "name": "CNN_for_single_bee_recognition.ipynb",
      "provenance": [],
      "collapsed_sections": []
    },
    "kernelspec": {
      "name": "python3",
      "display_name": "Python 3"
    },
    "language_info": {
      "codemirror_mode": {
        "name": "ipython",
        "version": 3
      },
      "file_extension": ".py",
      "mimetype": "text/x-python",
      "name": "python",
      "nbconvert_exporter": "python",
      "pygments_lexer": "ipython3",
      "version": "3.7.4"
    }
  },
  "cells": [
    {
      "cell_type": "markdown",
      "metadata": {
        "colab_type": "text",
        "id": "Db73jZpeEWBc"
      },
      "source": [
        "# Importing useful packages and libraries"
      ]
    },
    {
      "cell_type": "code",
      "metadata": {
        "colab_type": "code",
        "id": "BtS3nCXxAjc3",
        "colab": {}
      },
      "source": [
        "import numpy as np\n",
        "import pdb\n",
        "import matplotlib.pyplot as plt\n",
        "import pandas  as pd\n",
        "from sklearn.preprocessing import  scale\n",
        "import seaborn as sns\n",
        "import cv2\n",
        "from copy import deepcopy\n",
        "from math import ceil\n",
        "\n",
        "colab = True"
      ],
      "execution_count": 0,
      "outputs": []
    },
    {
      "cell_type": "code",
      "metadata": {
        "colab_type": "code",
        "id": "NlejX-L1EpGo",
        "outputId": "77fa7b8a-10e3-4020-e1d5-28168d9231ad",
        "colab": {
          "base_uri": "https://localhost:8080/",
          "height": 34
        }
      },
      "source": [
        "if colab:\n",
        "    from google.colab import drive\n",
        "    drive.mount('/content/gdrive')\n",
        "    root_path = 'gdrive/My Drive/Colab Notebooks/prime_project/data/'\n",
        "else:\n",
        "    root_path = '../The BeeImage Dataset from Kaggle/'\n",
        "    \n",
        "directory =  root_path+\"/bee_imgs/\""
      ],
      "execution_count": 2,
      "outputs": [
        {
          "output_type": "stream",
          "text": [
            "Drive already mounted at /content/gdrive; to attempt to forcibly remount, call drive.mount(\"/content/gdrive\", force_remount=True).\n"
          ],
          "name": "stdout"
        }
      ]
    },
    {
      "cell_type": "markdown",
      "metadata": {
        "colab_type": "text",
        "collapsed": true,
        "id": "1MFByp3OAjc9"
      },
      "source": [
        "# Perliminary EDA"
      ]
    },
    {
      "cell_type": "markdown",
      "metadata": {
        "colab_type": "text",
        "id": "f39hBfI5AjdB"
      },
      "source": [
        "We the read the *.csv* file containing metadata about The BeeImage Dataset."
      ]
    },
    {
      "cell_type": "code",
      "metadata": {
        "colab_type": "code",
        "id": "D630R2l6AjdC",
        "outputId": "9a04b604-0995-4238-ed90-2cc5efd4e6ae",
        "colab": {
          "base_uri": "https://localhost:8080/",
          "height": 221
        }
      },
      "source": [
        "df = pd.read_csv(root_path+\"bee_data.csv\")\n",
        "n_tot = df['file'].count()\n",
        "print(\"Total images in the dataset: {}\".format(n_tot))\n",
        "df.head()"
      ],
      "execution_count": 3,
      "outputs": [
        {
          "output_type": "stream",
          "text": [
            "Total images in the dataset: 5172\n"
          ],
          "name": "stdout"
        },
        {
          "output_type": "execute_result",
          "data": {
            "text/html": [
              "<div>\n",
              "<style scoped>\n",
              "    .dataframe tbody tr th:only-of-type {\n",
              "        vertical-align: middle;\n",
              "    }\n",
              "\n",
              "    .dataframe tbody tr th {\n",
              "        vertical-align: top;\n",
              "    }\n",
              "\n",
              "    .dataframe thead th {\n",
              "        text-align: right;\n",
              "    }\n",
              "</style>\n",
              "<table border=\"1\" class=\"dataframe\">\n",
              "  <thead>\n",
              "    <tr style=\"text-align: right;\">\n",
              "      <th></th>\n",
              "      <th>file</th>\n",
              "      <th>date</th>\n",
              "      <th>time</th>\n",
              "      <th>location</th>\n",
              "      <th>zip code</th>\n",
              "      <th>subspecies</th>\n",
              "      <th>health</th>\n",
              "      <th>pollen_carrying</th>\n",
              "      <th>caste</th>\n",
              "    </tr>\n",
              "  </thead>\n",
              "  <tbody>\n",
              "    <tr>\n",
              "      <th>0</th>\n",
              "      <td>041_066.png</td>\n",
              "      <td>8/28/18</td>\n",
              "      <td>16:07</td>\n",
              "      <td>Alvin, TX, USA</td>\n",
              "      <td>77511</td>\n",
              "      <td>-1</td>\n",
              "      <td>hive being robbed</td>\n",
              "      <td>False</td>\n",
              "      <td>worker</td>\n",
              "    </tr>\n",
              "    <tr>\n",
              "      <th>1</th>\n",
              "      <td>041_072.png</td>\n",
              "      <td>8/28/18</td>\n",
              "      <td>16:07</td>\n",
              "      <td>Alvin, TX, USA</td>\n",
              "      <td>77511</td>\n",
              "      <td>-1</td>\n",
              "      <td>hive being robbed</td>\n",
              "      <td>False</td>\n",
              "      <td>worker</td>\n",
              "    </tr>\n",
              "    <tr>\n",
              "      <th>2</th>\n",
              "      <td>041_073.png</td>\n",
              "      <td>8/28/18</td>\n",
              "      <td>16:07</td>\n",
              "      <td>Alvin, TX, USA</td>\n",
              "      <td>77511</td>\n",
              "      <td>-1</td>\n",
              "      <td>hive being robbed</td>\n",
              "      <td>False</td>\n",
              "      <td>worker</td>\n",
              "    </tr>\n",
              "    <tr>\n",
              "      <th>3</th>\n",
              "      <td>041_067.png</td>\n",
              "      <td>8/28/18</td>\n",
              "      <td>16:07</td>\n",
              "      <td>Alvin, TX, USA</td>\n",
              "      <td>77511</td>\n",
              "      <td>-1</td>\n",
              "      <td>hive being robbed</td>\n",
              "      <td>False</td>\n",
              "      <td>worker</td>\n",
              "    </tr>\n",
              "    <tr>\n",
              "      <th>4</th>\n",
              "      <td>041_059.png</td>\n",
              "      <td>8/28/18</td>\n",
              "      <td>16:07</td>\n",
              "      <td>Alvin, TX, USA</td>\n",
              "      <td>77511</td>\n",
              "      <td>-1</td>\n",
              "      <td>hive being robbed</td>\n",
              "      <td>False</td>\n",
              "      <td>worker</td>\n",
              "    </tr>\n",
              "  </tbody>\n",
              "</table>\n",
              "</div>"
            ],
            "text/plain": [
              "          file     date   time  ...             health  pollen_carrying   caste\n",
              "0  041_066.png  8/28/18  16:07  ...  hive being robbed            False  worker\n",
              "1  041_072.png  8/28/18  16:07  ...  hive being robbed            False  worker\n",
              "2  041_073.png  8/28/18  16:07  ...  hive being robbed            False  worker\n",
              "3  041_067.png  8/28/18  16:07  ...  hive being robbed            False  worker\n",
              "4  041_059.png  8/28/18  16:07  ...  hive being robbed            False  worker\n",
              "\n",
              "[5 rows x 9 columns]"
            ]
          },
          "metadata": {
            "tags": []
          },
          "execution_count": 3
        }
      ]
    },
    {
      "cell_type": "markdown",
      "metadata": {
        "colab_type": "text",
        "id": "Z_nnlVICAjdG"
      },
      "source": [
        "For the purposes of the current work, we are only interested in associating each bee to the proper subspecies. For this reason, we are going to discard the images repsenting bees whose subspecies is unknown."
      ]
    },
    {
      "cell_type": "code",
      "metadata": {
        "colab_type": "code",
        "id": "BXbbHLTnAjdH",
        "outputId": "b06c633c-e343-4f3f-f96f-e224e061984c",
        "colab": {
          "base_uri": "https://localhost:8080/",
          "height": 380
        }
      },
      "source": [
        "df = df[df['subspecies'] != '-1'] # remove images for which we do not have the class label\n",
        "print(\"Images left: {}\\nImages lost: {}%\".format(df['file'].count(), 100-df['file'].count()/n_tot*100))\n",
        "print(\"Distinct values of subspecies = {}\\n\".format(df[\"subspecies\"].nunique()))\n",
        "# print(\"Counting the distinct values of subspecies:\\n{}\".format(df[\"subspecies\"].value_counts()))\n",
        "\n",
        "subspecies_counts = df[\"subspecies\"].value_counts()\n",
        "plt.title(\"Counts of bee per subspecies or classes\")\n",
        "g = sns.barplot(x = subspecies_counts, y = subspecies_counts.index)\n",
        "g.set_xlabel(\"Frequency\")"
      ],
      "execution_count": 4,
      "outputs": [
        {
          "output_type": "stream",
          "text": [
            "Images left: 4744\n",
            "Images lost: 8.275328692962105%\n",
            "Distinct values of subspecies = 6\n",
            "\n"
          ],
          "name": "stdout"
        },
        {
          "output_type": "execute_result",
          "data": {
            "text/plain": [
              "Text(0.5, 0, 'Frequency')"
            ]
          },
          "metadata": {
            "tags": []
          },
          "execution_count": 4
        },
        {
          "output_type": "display_data",
          "data": {
            "image/png": "[encoded data removed]",
            "text/plain": [
              "<Figure size 432x288 with 1 Axes>"
            ]
          },
          "metadata": {
            "tags": []
          }
        }
      ]
    },
    {
      "cell_type": "markdown",
      "metadata": {
        "colab_type": "text",
        "id": "Z624GVLAAjdK"
      },
      "source": [
        "# Loading images and pre-processing"
      ]
    },
    {
      "cell_type": "code",
      "metadata": {
        "colab_type": "code",
        "id": "0eBQNokHKON-",
        "colab": {}
      },
      "source": [
        "def load_images(directory, files):\n",
        "    '''Load images from disk'''\n",
        "    X = []\n",
        "    for img_name in files:\n",
        "        img = cv2.imread(directory + img_name, cv2.IMREAD_COLOR)\n",
        "        img = cv2.cvtColor(img, cv2.COLOR_BGR2RGB) \n",
        "        img = np.array(img)\n",
        "        X.append(img)\n",
        "    X = np.array(X)\n",
        "    return X\n",
        "\n",
        "def show_image_shapes(images,n):\n",
        "    '''Print the shape of n images randomly chosen'''\n",
        "    for i in range(n):\n",
        "        r = np.random.randint(low=0, high=len(images))\n",
        "        print(\"image number {} has shape = {}\".format(r, images[r].shape))\n",
        "\n",
        "def show_image(image, ax = plt, title = None, show_size = False):\n",
        "    '''Plots a given np.array image'''\n",
        "    ax.imshow(image)\n",
        "    if title:\n",
        "        if ax == plt:\n",
        "            plt.title(title)\n",
        "        else:\n",
        "            ax.set_title(title)\n",
        "    if not show_size:\n",
        "        ax.tick_params(bottom = False, left = False, labelbottom = False, labelleft = False)\n",
        "        \n",
        "def show_images(images, titles = None, show_size = False):\n",
        "    '''Plots many images from the given list of np.array images'''\n",
        "    cols = 4\n",
        "    f, ax = plt.subplots(nrows=int(np.ceil(len(images)/cols)),ncols=cols, figsize=(14,5))\n",
        "    ax = ax.flatten()\n",
        "    for i, image in enumerate(images):\n",
        "        if titles:\n",
        "            show_image(image, ax = ax[i], title = titles[i], show_size = show_size)\n",
        "        else:\n",
        "            show_image(image, ax = ax[i], title = None, show_size = show_size)\n",
        "    plt.show()       "
      ],
      "execution_count": 0,
      "outputs": []
    },
    {
      "cell_type": "markdown",
      "metadata": {
        "colab_type": "text",
        "id": "HNUPjuOvXFjP"
      },
      "source": [
        "Firstly we load the images."
      ]
    },
    {
      "cell_type": "code",
      "metadata": {
        "colab_type": "code",
        "id": "X472DFn-M5Tp",
        "colab": {}
      },
      "source": [
        "images = load_images(directory, df.file.values)"
      ],
      "execution_count": 0,
      "outputs": []
    },
    {
      "cell_type": "markdown",
      "metadata": {
        "colab_type": "text",
        "id": "mMgZegDGXI_i"
      },
      "source": [
        "Then we display some images and their shape."
      ]
    },
    {
      "cell_type": "code",
      "metadata": {
        "colab_type": "code",
        "id": "bpOyHYTwPsXu",
        "outputId": "5777c5e3-8c8a-4484-a463-01aaf2df48e3",
        "colab": {
          "base_uri": "https://localhost:8080/",
          "height": 102
        }
      },
      "source": [
        "show_image_shapes(images,5)"
      ],
      "execution_count": 7,
      "outputs": [
        {
          "output_type": "stream",
          "text": [
            "image number 4686 has shape = (72, 84, 3)\n",
            "image number 3433 has shape = (63, 44, 3)\n",
            "image number 3682 has shape = (37, 53, 3)\n",
            "image number 115 has shape = (59, 133, 3)\n",
            "image number 1415 has shape = (52, 50, 3)\n"
          ],
          "name": "stdout"
        }
      ]
    },
    {
      "cell_type": "code",
      "metadata": {
        "colab_type": "code",
        "id": "GroHzuhAU-4k",
        "outputId": "81e66680-0778-49dd-9570-18e103bb9870",
        "colab": {
          "base_uri": "https://localhost:8080/",
          "height": 294
        }
      },
      "source": [
        "show_images(images[::1200],list(df[\"subspecies\"][::1200]))"
      ],
      "execution_count": 8,
      "outputs": [
        {
          "output_type": "display_data",
          "data": {
            "image/png": "[encoded data removed]",
            "text/plain": [
              "<Figure size 1008x360 with 4 Axes>"
            ]
          },
          "metadata": {
            "tags": []
          }
        }
      ]
    },
    {
      "cell_type": "markdown",
      "metadata": {
        "colab_type": "text",
        "id": "WmzYb3jQS4jk"
      },
      "source": [
        "As we can see from the previous outputs, images basically have different shapes. However, in order to train our CNN, all input images should have the same shape. Therefore, we need to reshape them somehow. Basically we have the following possibilities:\n",
        "\n",
        " * reshape all images to **the smallest image size**: applying this technique will lead to huge loss in data quality, which is not acceptable in our case since images already have a very low quality;\n",
        "\n",
        " * reshape all images to **the highest image size**: this technique may lead to noisy images and the network may not learn anything at all.\n",
        "\n",
        "\n",
        "Here we propose an approch who finds **the most frequent image shape** and use to reshape the other images. The intuition behind this technique is that it may allow to reshape only few images therefore, preserving data quality for most of our images.\n",
        "\n",
        "Furthermore, the original aspect ratio may not fit into the one forced by the new shape. Eventually, reshaping can be carried out in two different ways:\n",
        "\n",
        " * by **shrinking and stretching** the original image up to the requested shape;\n",
        "\n",
        " * by **preserving the original aspect ratio** by adding black pixels as padding.\n",
        "\n",
        "In the following we will implement both techniques to test which is the best one.\n"
      ]
    },
    {
      "cell_type": "markdown",
      "metadata": {
        "colab_type": "text",
        "id": "GJETddrjW02d"
      },
      "source": [
        "## Finding the most frequent image shape"
      ]
    },
    {
      "cell_type": "code",
      "metadata": {
        "colab_type": "code",
        "id": "ec-9h-6CW6e5",
        "colab": {}
      },
      "source": [
        "def get_images_wh(images):\n",
        "    '''Returns a tuple of lists, representing the widths and heights of the given images, respectively.'''\n",
        "    widths = []\n",
        "    heights = []\n",
        "    for image in images:\n",
        "        h, w, rbg = image.shape\n",
        "        widths.append(w)\n",
        "        heights.append(h)\n",
        "    return (widths, heights)\n",
        "\n",
        "def get_best_average(dist, cutoff = .5):\n",
        "    '''Returns an integer of the average from the given distribution above the cutoff.\n",
        "    '''\n",
        "    # requires single peak normal-like distribution\n",
        "    hist, bin_edges = np.histogram(dist, bins = 25);\n",
        "    total_hist = sum(hist)\n",
        "    \n",
        "    # associating proportion of hist with bin_edges\n",
        "    hist_edges = [(vals[0]/total_hist,vals[1]) for vals in zip(hist, bin_edges)]\n",
        "    \n",
        "    # sorting by proportions (assumes normal-like dist such that high freq. bins are close together)\n",
        "    hist_edges.sort(key = lambda x: x[0])\n",
        "    lefts = []\n",
        "    \n",
        "    # add highest freq. bins to list up to cutoff % of total\n",
        "    while cutoff > 0:\n",
        "        vals = hist_edges.pop()\n",
        "        cutoff -= vals[0]\n",
        "        lefts.append(vals[1])\n",
        "        \n",
        "    # determining leftmost and rightmost range, then returning average\n",
        "    diff = np.abs(np.diff(lefts)[0]) # same diff b/c of bins\n",
        "    leftmost = min(lefts)\n",
        "    rightmost = max(lefts) + diff\n",
        "    return int(np.round(np.mean([rightmost,leftmost])))"
      ],
      "execution_count": 0,
      "outputs": []
    },
    {
      "cell_type": "code",
      "metadata": {
        "colab_type": "code",
        "id": "birBwHjPczNA",
        "colab": {}
      },
      "source": [
        "wh = get_images_wh(images)"
      ],
      "execution_count": 0,
      "outputs": []
    },
    {
      "cell_type": "code",
      "metadata": {
        "colab_type": "code",
        "id": "W8jje91Dc6bS",
        "outputId": "0839694b-1387-4a7c-8ec0-5392f96ea7b6",
        "colab": {
          "base_uri": "https://localhost:8080/",
          "height": 300
        }
      },
      "source": [
        "size = 12\n",
        "plt.subplot(1,2,1)\n",
        "plt.title(\"Widths of bee images\", fontsize = size * 4/3, pad = size/2)\n",
        "plt.ylabel(\"Frequency\", size = size)\n",
        "plt.xlabel(\"width (pixels)\", size = size)\n",
        "plt.hist(wh[0], bins = 25);\n",
        "\n",
        "plt.subplot(1,2,2)\n",
        "plt.title(\"Heights of bee images\", fontsize = size * 4/3, pad = size/2)\n",
        "plt.ylabel(\"Frequency\", size = size)\n",
        "plt.xlabel(\"height (pixels)\", size = size)\n",
        "plt.hist(wh[1], bins = 25);"
      ],
      "execution_count": 11,
      "outputs": [
        {
          "output_type": "display_data",
          "data": {
            "image/png": "[encoded data removed]",
            "text/plain": [
              "<Figure size 432x288 with 2 Axes>"
            ]
          },
          "metadata": {
            "tags": []
          }
        }
      ]
    },
    {
      "cell_type": "markdown",
      "metadata": {
        "colab_type": "text",
        "id": "M8FrXbC-eiF0"
      },
      "source": [
        "We can notice that the distribution of **width** and **height** of images is very biased towards small values. So we will consider only the $50 \\%$ most frequent values for **weigth** and **height**, then we will average them to determine the shape of our input images. This technique will allow to alter the least majority of the data.\n",
        "\n",
        "*NOTE*: we could have defined **width** and **height** as the average over the width and shape of all the images. However, this technique should have not been efficient since the distrinution of the two variables is mainly concentrated around the interval $[48, 78]$."
      ]
    },
    {
      "cell_type": "code",
      "metadata": {
        "colab_type": "code",
        "id": "nCqr2XvwhVmn",
        "outputId": "74caea9d-552f-43be-b043-44f2d640cef2",
        "colab": {
          "base_uri": "https://localhost:8080/",
          "height": 34
        }
      },
      "source": [
        "ideal_width, ideal_height = get_best_average(wh[0]), get_best_average(wh[1])\n",
        "print(\"the ideal height and width for our images are \",ideal_height,ideal_width) "
      ],
      "execution_count": 12,
      "outputs": [
        {
          "output_type": "stream",
          "text": [
            "the ideal height and width for our images are  64 56\n"
          ],
          "name": "stdout"
        }
      ]
    },
    {
      "cell_type": "markdown",
      "metadata": {
        "colab_type": "text",
        "id": "nA6oiSETi_hc"
      },
      "source": [
        "## Resizing the images\n",
        "\n",
        "In order to resize our images, we can use the package *opencv* which already implement some useful functions to resize an image. "
      ]
    },
    {
      "cell_type": "code",
      "metadata": {
        "colab_type": "code",
        "id": "ArRb8Vs_jQVm",
        "colab": {}
      },
      "source": [
        "def resize_images_stretching(images,new_shape):\n",
        "    \"\"\"\n",
        "    resize the entire data set of images\n",
        "        @input\n",
        "            - images: ndarray of shape=(n_images,) where each image if of shape (height,width,n_channel)\n",
        "            - new_shape : a tuple (height,width)\n",
        "        @returns:\n",
        "            an ndarray representing the reshaped image dataset\n",
        "    \"\"\"\n",
        "    size = (new_shape[1], new_shape[0]) # because dsize should be (width,height)\n",
        "    reshaped_images = []\n",
        "    for image in images:\n",
        "        image = cv2.resize(src=image, dsize= size, interpolation = cv2.INTER_AREA)\n",
        "        reshaped_images.append(image)  \n",
        "    return np.asarray(reshaped_images)\n",
        "\n",
        "def resize_images_padding(images, desired_size=64):\n",
        "    \"\"\"\n",
        "    resize the entire data set of images with black padding\n",
        "    in order to the aspect ratio\n",
        "        @input\n",
        "            - images: ndarray of shape=(n_images,) where each image if of shape (height,width,n_channel)\n",
        "            - desired_size : an int\n",
        "        @returns:\n",
        "            an ndarray representing the reshaped image dataset\n",
        "    \"\"\"\n",
        "    reshaped_images = []\n",
        "    color = [0, 0, 0]\n",
        "\n",
        "    for img in images:\n",
        "        old_size = img.shape[:2]\n",
        "        ratio = float(desired_size)/max(old_size)\n",
        "        new_size = tuple([int(x*ratio) for x in old_size])\n",
        "\n",
        "        img = cv2.resize(img, (new_size[1], new_size[0]))\n",
        "\n",
        "        delta_w = desired_size - new_size[1]\n",
        "        delta_h = desired_size - new_size[0]\n",
        "        top, bottom = delta_h//2, delta_h-(delta_h//2)\n",
        "        left, right = delta_w//2, delta_w-(delta_w//2)\n",
        "        \n",
        "        new_img = cv2.copyMakeBorder(img, top, bottom, left, right, cv2.BORDER_CONSTANT, value=color)\n",
        "        reshaped_images.append(new_img)\n",
        "\n",
        "    return np.asarray(reshaped_images)\n",
        "\n",
        "def dataset_statistics(images):\n",
        "    print(\"The total number of images is :\",len(images))\n",
        "    s = images[0].shape\n",
        "    uniform = True\n",
        "    for i in images:\n",
        "        if i.shape != s:\n",
        "            uniform = False\n",
        "    if uniform:\n",
        "        print(\"All images have the same shape which is \",s)\n",
        "    else:\n",
        "        print(\"WARNING: all images does not have the same shape,therefore it's not possible to train a CNN\")     "
      ],
      "execution_count": 0,
      "outputs": []
    },
    {
      "cell_type": "code",
      "metadata": {
        "colab_type": "code",
        "id": "hovzES1gwW0L",
        "colab": {}
      },
      "source": [
        "black_padding = True\n",
        "if black_padding:\n",
        "  new_shape = (ideal_height,ideal_height, 3)\n",
        "  reshaped_images = resize_images_padding(images,ideal_height)\n",
        "else:\n",
        "  new_shape = (ideal_height,ideal_width, 3)\n",
        "  reshaped_images = resize_images_stretching(images,new_shape)"
      ],
      "execution_count": 0,
      "outputs": []
    },
    {
      "cell_type": "code",
      "metadata": {
        "colab_type": "code",
        "id": "-99rt29Lx1Ki",
        "outputId": "7e1aa07a-e66e-4e15-e720-4636a7a78728",
        "colab": {
          "base_uri": "https://localhost:8080/",
          "height": 251
        }
      },
      "source": [
        "dataset_statistics(reshaped_images)\n",
        "show_images(reshaped_images[::1200],list(df[\"subspecies\"][::1200]))"
      ],
      "execution_count": 15,
      "outputs": [
        {
          "output_type": "stream",
          "text": [
            "The total number of images is : 4744\n",
            "All images have the same shape which is  (64, 64, 3)\n"
          ],
          "name": "stdout"
        },
        {
          "output_type": "display_data",
          "data": {
            "image/png": "[encoded data removed]",
            "text/plain": [
              "<Figure size 1008x360 with 4 Axes>"
            ]
          },
          "metadata": {
            "tags": []
          }
        }
      ]
    },
    {
      "cell_type": "markdown",
      "metadata": {
        "colab_type": "text",
        "id": "xRlfxO8WjiHD"
      },
      "source": [
        "We define a function to normalize the images in the interval $[0, 1]$. This might improve the accuracy."
      ]
    },
    {
      "cell_type": "code",
      "metadata": {
        "colab_type": "code",
        "id": "37bM8dNejmGx",
        "colab": {}
      },
      "source": [
        "def normalize_images(X):\n",
        "    \"\"\"\n",
        "    function that allows to normalize pixels of the image between [0,1]\n",
        "\n",
        "    @input\n",
        "        - X : ndarray of shape=(n_images,heigth,width,n_channels)\n",
        "    @returns\n",
        "        - X : normalized dataset with the same shape\n",
        "    \"\"\"\n",
        "    n_images,heigth,width,nb_channels = X.shape[0],X.shape[1],X.shape[2],X.shape[3]\n",
        "    #Reshape the data-set in order to have 2-D array. it will trasform X from (n_images,h,w,channels) to --> (n_images,h*w*n_channels)\n",
        "    X = np.reshape(X,newshape=(n_images,-1))\n",
        "    X = scale(X)\n",
        "    X = np.reshape(X,newshape=(n_images,heigth,width,nb_channels))\n",
        "    return X"
      ],
      "execution_count": 0,
      "outputs": []
    },
    {
      "cell_type": "markdown",
      "metadata": {
        "colab_type": "text",
        "id": "4My5jB-IAjdR"
      },
      "source": [
        "We also need to encode the labels with integer values."
      ]
    },
    {
      "cell_type": "code",
      "metadata": {
        "colab_type": "code",
        "id": "13-vXdUIAjdS",
        "colab": {}
      },
      "source": [
        "from sklearn.preprocessing import LabelEncoder\n",
        "from sklearn.model_selection import train_test_split\n",
        "from keras.utils.np_utils import to_categorical\n",
        "\n",
        "le = LabelEncoder()\n",
        "labels = df.subspecies.values\n",
        "encoded_labels = le.fit_transform(labels)\n",
        "y = to_categorical(encoded_labels)"
      ],
      "execution_count": 0,
      "outputs": []
    },
    {
      "cell_type": "markdown",
      "metadata": {
        "colab_type": "text",
        "id": "jnuYH0ETAjdU"
      },
      "source": [
        "Now we can finally split the data for training and testing purposes."
      ]
    },
    {
      "cell_type": "code",
      "metadata": {
        "colab_type": "code",
        "id": "9aPXyxwyAjdV",
        "colab": {}
      },
      "source": [
        "X_train, X_test, Y_train, Y_test = train_test_split(reshaped_images, y, test_size=0.2, random_state=2020)"
      ],
      "execution_count": 0,
      "outputs": []
    },
    {
      "cell_type": "code",
      "metadata": {
        "colab_type": "code",
        "id": "Rfd7PAVwAjda",
        "outputId": "f1e9309c-1850-4f26-aaae-37a04970d865",
        "colab": {
          "base_uri": "https://localhost:8080/",
          "height": 85
        }
      },
      "source": [
        "print(\"X_train.shape = {}\\nX_test.shape = {}\\ny_train.shape = {}\\ny_test.shape ={}\"\n",
        "      .format(X_train.shape, X_test.shape, Y_train.shape, Y_test.shape))"
      ],
      "execution_count": 25,
      "outputs": [
        {
          "output_type": "stream",
          "text": [
            "X_train.shape = (3795, 64, 64, 3)\n",
            "X_test.shape = (949, 64, 64, 3)\n",
            "y_train.shape = (3795, 6)\n",
            "y_test.shape =(949, 6)\n"
          ],
          "name": "stdout"
        }
      ]
    },
    {
      "cell_type": "markdown",
      "metadata": {
        "colab_type": "text",
        "id": "IZpk2AqOAjdd"
      },
      "source": [
        "# Building the CNN with Keras"
      ]
    },
    {
      "cell_type": "code",
      "metadata": {
        "colab_type": "code",
        "id": "x_iorHUV8cwL",
        "outputId": "efe03729-c86a-46c3-c177-a929152bf32a",
        "colab": {
          "base_uri": "https://localhost:8080/",
          "height": 34
        }
      },
      "source": [
        "import tensorflow as tf\n",
        "\n",
        "import keras\n",
        "from keras.models import Sequential, Model\n",
        "from keras.layers import Dense, Dropout, Activation, Flatten, Input\n",
        "from keras.layers import Conv2D, MaxPooling2D\n",
        "from keras import optimizers\n",
        "from keras.utils.np_utils import to_categorical\n",
        "from keras.preprocessing.image import ImageDataGenerator\n",
        "print(keras.__version__)"
      ],
      "execution_count": 26,
      "outputs": [
        {
          "output_type": "stream",
          "text": [
            "2.2.5\n"
          ],
          "name": "stdout"
        }
      ]
    },
    {
      "cell_type": "markdown",
      "metadata": {
        "colab_type": "text",
        "id": "gmnoH2_69kid"
      },
      "source": [
        "In the following we will use image generators in order to load data. Data generators are on-the-fly image transformers and are the recommended way of providing image data to models in Keras. They let you work with on-disk image data too large to fit all at once in-memory. They allow also to preprocess the images the model sees with random image transformations and standardizations, a key technique for improving model performance. For more see https://keras.io/preprocessing/image/."
      ]
    },
    {
      "cell_type": "code",
      "metadata": {
        "colab_type": "code",
        "id": "flwKEbZp9pG8",
        "colab": {}
      },
      "source": [
        "train_datagen = ImageDataGenerator(\n",
        "    rotation_range=40,\n",
        "    width_shift_range=0.2,\n",
        "    height_shift_range=0.2,\n",
        "    rescale=1/255,\n",
        "    shear_range=0.2,\n",
        "    zoom_range=0.2,\n",
        "    horizontal_flip=True,\n",
        "    fill_mode='nearest'\n",
        ")\n",
        "test_datagen = ImageDataGenerator(rescale=1/255)\n",
        "train_datagen.fit(X_train)\n",
        "test_datagen.fit(X_test)"
      ],
      "execution_count": 0,
      "outputs": []
    },
    {
      "cell_type": "code",
      "metadata": {
        "colab_type": "code",
        "id": "ycuKU1mGAjde",
        "colab": {}
      },
      "source": [
        "img_rows, img_cols, nb_channels = new_shape\n",
        "if black_padding:\n",
        "  input_shape = ()\n",
        "input_shape = (img_rows, img_cols, nb_channels)\n",
        "nb_classes = Y_train.shape[1]\n",
        "\n",
        "nb_filters = 32\n",
        "kernel_size = (3, 3)\n",
        "pool_size = (2, 2)\n",
        "\n",
        "model = Sequential()\n",
        "model.add(Conv2D(\n",
        "    filters = nb_filters, \n",
        "    kernel_size = kernel_size, \n",
        "    activation='relu',\n",
        "    padding= \"same\",\n",
        "    kernel_initializer = keras.initializers.RandomUniform(minval=-0.05, maxval=0.05, seed=None), \n",
        "    input_shape = input_shape,\n",
        "    name = \"conv_1\"\n",
        "))\n",
        "model.add(Conv2D(\n",
        "    filters = nb_filters,\n",
        "    kernel_size = kernel_size,\n",
        "    activation='relu',\n",
        "    padding =\"same\",\n",
        "    kernel_initializer = \"random_uniform\",\n",
        "    name='conv_2'\n",
        "))\n",
        "model.add(MaxPooling2D((2, 2), name=\"max_pool_2\"))\n",
        "model.add(Conv2D(\n",
        "    filters = nb_filters,\n",
        "    kernel_size = kernel_size,\n",
        "    activation='relu',\n",
        "    padding =\"same\",\n",
        "    kernel_initializer= \"random_uniform\",\n",
        "    name='conv_3'\n",
        "))\n",
        "model.add(MaxPooling2D((2, 2), padding=\"same\", name = \"max_pool_3\"))\n",
        "model.add(Flatten())\n",
        "model.add(Dense(\n",
        "    nb_classes,\n",
        "    activation='softmax',\n",
        "    kernel_initializer=\"random_uniform\",\n",
        "    name='dense'\n",
        "))"
      ],
      "execution_count": 0,
      "outputs": []
    },
    {
      "cell_type": "markdown",
      "metadata": {
        "colab_type": "text",
        "id": "_HCpScWDXfCQ"
      },
      "source": [
        "Now we compile the model, define the loss and the optimizer."
      ]
    },
    {
      "cell_type": "code",
      "metadata": {
        "colab_type": "code",
        "id": "xUksLBc3XiZR",
        "colab": {}
      },
      "source": [
        "learning_rate = 0.01\n",
        "\n",
        "model.compile(loss='categorical_crossentropy',\n",
        "              optimizer=optimizers.SGD(lr=learning_rate),\n",
        "              metrics=['accuracy'])"
      ],
      "execution_count": 0,
      "outputs": []
    },
    {
      "cell_type": "markdown",
      "metadata": {
        "colab_type": "text",
        "id": "wcpeZrb-wylx"
      },
      "source": [
        "Finally we define a function to plot the accuracy and the loss over epochs during training."
      ]
    },
    {
      "cell_type": "code",
      "metadata": {
        "colab_type": "code",
        "id": "-E-tRGIIw5Xg",
        "colab": {}
      },
      "source": [
        "def plot_acc_loss(acc,loss):\n",
        "    \"\"\"\n",
        "    plot the accuracy and the loss over epchos\n",
        "        @input:\n",
        "            - acc : array of shape=(n_epochs,) representing the accuracy of the model during training over epochs\n",
        "            - loss: array of shape=(n_epochs,) representing the loss of the model during training\n",
        "    \"\"\"\n",
        "    plt.plot(acc,\"g\",label=\"accuracy\")\n",
        "    plt.plot(loss,\"r\",label=\"loss\")\n",
        "    plt.xlabel(\"epoch\")\n",
        "    plt.ylabel(\"metric\")\n",
        "    plt.legend()\n",
        "    plt.show()"
      ],
      "execution_count": 0,
      "outputs": []
    },
    {
      "cell_type": "markdown",
      "metadata": {
        "colab_type": "text",
        "id": "WwtMGgkzXvhv"
      },
      "source": [
        "We get the summary of the model so that we can have an idea of the architechture and the weigths that will be trained."
      ]
    },
    {
      "cell_type": "code",
      "metadata": {
        "colab_type": "code",
        "id": "I-a4ZbMaX8E5",
        "outputId": "ee99e168-b844-40d1-9745-b6e6678f27bc",
        "colab": {
          "base_uri": "https://localhost:8080/",
          "height": 391
        }
      },
      "source": [
        "'''\n",
        "the number of trainable of parameters at each layers is equal to\n",
        "the total number of weight of all the filters at each layer;\n",
        "in this case 3*3*(size of each filter) *\n",
        "    3*(depth of each filter) *\n",
        "    32*(total number of filters at the first layer) +\n",
        "    32(each filter has a bias) = 896\n",
        "'''\n",
        "model.summary()\n",
        "model_copy = deepcopy(model)"
      ],
      "execution_count": 33,
      "outputs": [
        {
          "output_type": "stream",
          "text": [
            "Model: \"sequential_2\"\n",
            "_________________________________________________________________\n",
            "Layer (type)                 Output Shape              Param #   \n",
            "=================================================================\n",
            "conv_1 (Conv2D)              (None, 64, 64, 32)        896       \n",
            "_________________________________________________________________\n",
            "conv_2 (Conv2D)              (None, 64, 64, 32)        9248      \n",
            "_________________________________________________________________\n",
            "max_pool_2 (MaxPooling2D)    (None, 32, 32, 32)        0         \n",
            "_________________________________________________________________\n",
            "conv_3 (Conv2D)              (None, 32, 32, 32)        9248      \n",
            "_________________________________________________________________\n",
            "max_pool_3 (MaxPooling2D)    (None, 16, 16, 32)        0         \n",
            "_________________________________________________________________\n",
            "flatten_2 (Flatten)          (None, 8192)              0         \n",
            "_________________________________________________________________\n",
            "dense (Dense)                (None, 6)                 49158     \n",
            "=================================================================\n",
            "Total params: 68,550\n",
            "Trainable params: 68,550\n",
            "Non-trainable params: 0\n",
            "_________________________________________________________________\n"
          ],
          "name": "stdout"
        }
      ]
    },
    {
      "cell_type": "markdown",
      "metadata": {
        "colab_type": "text",
        "id": "r8wQiW75YBhk"
      },
      "source": [
        "Finally we train the model."
      ]
    },
    {
      "cell_type": "code",
      "metadata": {
        "colab_type": "code",
        "id": "NqYKidtvX_Hk",
        "outputId": "484f96b9-fad5-4e57-ff6f-d328a58400fa",
        "colab": {
          "base_uri": "https://localhost:8080/",
          "height": 1000
        }
      },
      "source": [
        "n_epochs = 50\n",
        "batch_size = 64\n",
        "\n",
        "model = deepcopy(model_copy)\n",
        "history = model.fit_generator(\n",
        "    train_datagen.flow(x= X_train, y = Y_train, batch_size=batch_size, shuffle=True),\n",
        "    steps_per_epoch=ceil(len(X_train)/ batch_size),\n",
        "    epochs=n_epochs,\n",
        "    verbose = 1\n",
        ")"
      ],
      "execution_count": 0,
      "outputs": [
        {
          "output_type": "stream",
          "text": [
            "Epoch 1/50\n",
            "60/60 [==============================] - 4s 74ms/step - loss: 1.3377 - acc: 0.6266\n",
            "Epoch 2/50\n",
            "60/60 [==============================] - 4s 68ms/step - loss: 1.1562 - acc: 0.6398\n",
            "Epoch 3/50\n",
            "60/60 [==============================] - 4s 67ms/step - loss: 1.0785 - acc: 0.6376\n",
            "Epoch 4/50\n",
            "60/60 [==============================] - 4s 68ms/step - loss: 0.9573 - acc: 0.6798\n",
            "Epoch 5/50\n",
            "60/60 [==============================] - 4s 67ms/step - loss: 0.8794 - acc: 0.7006\n",
            "Epoch 6/50\n",
            "60/60 [==============================] - 4s 68ms/step - loss: 0.8398 - acc: 0.7132\n",
            "Epoch 7/50\n",
            "60/60 [==============================] - 4s 68ms/step - loss: 0.8101 - acc: 0.7189\n",
            "Epoch 8/50\n",
            "60/60 [==============================] - 4s 69ms/step - loss: 0.7951 - acc: 0.7230\n",
            "Epoch 9/50\n",
            "60/60 [==============================] - 4s 68ms/step - loss: 0.7837 - acc: 0.7265\n",
            "Epoch 10/50\n",
            "60/60 [==============================] - 4s 68ms/step - loss: 0.7736 - acc: 0.7307\n",
            "Epoch 11/50\n",
            "60/60 [==============================] - 4s 67ms/step - loss: 0.7656 - acc: 0.7280\n",
            "Epoch 12/50\n",
            "60/60 [==============================] - 4s 67ms/step - loss: 0.7532 - acc: 0.7381\n",
            "Epoch 13/50\n",
            "60/60 [==============================] - 4s 67ms/step - loss: 0.7648 - acc: 0.7354\n",
            "Epoch 14/50\n",
            "60/60 [==============================] - 4s 67ms/step - loss: 0.7506 - acc: 0.7369\n",
            "Epoch 15/50\n",
            "60/60 [==============================] - 4s 68ms/step - loss: 0.7379 - acc: 0.7430\n",
            "Epoch 16/50\n",
            "60/60 [==============================] - 4s 67ms/step - loss: 0.7292 - acc: 0.7435\n",
            "Epoch 17/50\n",
            "60/60 [==============================] - 4s 67ms/step - loss: 0.7221 - acc: 0.7461\n",
            "Epoch 18/50\n",
            "60/60 [==============================] - 4s 67ms/step - loss: 0.7128 - acc: 0.7419\n",
            "Epoch 19/50\n",
            "60/60 [==============================] - 4s 67ms/step - loss: 0.7107 - acc: 0.7496\n",
            "Epoch 20/50\n",
            "60/60 [==============================] - 4s 66ms/step - loss: 0.7037 - acc: 0.7370\n",
            "Epoch 21/50\n",
            "60/60 [==============================] - 4s 67ms/step - loss: 0.6651 - acc: 0.7631\n",
            "Epoch 22/50\n",
            "60/60 [==============================] - 4s 67ms/step - loss: 0.6748 - acc: 0.7525\n",
            "Epoch 23/50\n",
            "60/60 [==============================] - 4s 68ms/step - loss: 0.6472 - acc: 0.7658\n",
            "Epoch 24/50\n",
            "60/60 [==============================] - 4s 67ms/step - loss: 0.6237 - acc: 0.7767\n",
            "Epoch 25/50\n",
            "60/60 [==============================] - 4s 68ms/step - loss: 0.6004 - acc: 0.7751\n",
            "Epoch 26/50\n",
            "60/60 [==============================] - 4s 68ms/step - loss: 0.6134 - acc: 0.7732\n",
            "Epoch 27/50\n",
            "60/60 [==============================] - 4s 68ms/step - loss: 0.5822 - acc: 0.7801\n",
            "Epoch 28/50\n",
            "60/60 [==============================] - 4s 68ms/step - loss: 0.5808 - acc: 0.7822\n",
            "Epoch 29/50\n",
            "60/60 [==============================] - 4s 67ms/step - loss: 0.5633 - acc: 0.7829\n",
            "Epoch 30/50\n",
            "60/60 [==============================] - 4s 67ms/step - loss: 0.5529 - acc: 0.7870\n",
            "Epoch 31/50\n",
            "60/60 [==============================] - 4s 68ms/step - loss: 0.5204 - acc: 0.7995\n",
            "Epoch 32/50\n",
            "60/60 [==============================] - 4s 66ms/step - loss: 0.5015 - acc: 0.8142\n",
            "Epoch 33/50\n",
            "60/60 [==============================] - 4s 67ms/step - loss: 0.4869 - acc: 0.8155\n",
            "Epoch 34/50\n",
            "60/60 [==============================] - 4s 66ms/step - loss: 0.4848 - acc: 0.8149\n",
            "Epoch 35/50\n",
            "60/60 [==============================] - 4s 66ms/step - loss: 0.4553 - acc: 0.8268\n",
            "Epoch 36/50\n",
            "60/60 [==============================] - 4s 67ms/step - loss: 0.4299 - acc: 0.8415\n",
            "Epoch 37/50\n",
            "60/60 [==============================] - 4s 67ms/step - loss: 0.4303 - acc: 0.8292\n",
            "Epoch 38/50\n",
            "60/60 [==============================] - 4s 66ms/step - loss: 0.4321 - acc: 0.8331\n",
            "Epoch 39/50\n",
            "60/60 [==============================] - 4s 67ms/step - loss: 0.4039 - acc: 0.8422\n",
            "Epoch 40/50\n",
            "60/60 [==============================] - 4s 67ms/step - loss: 0.4279 - acc: 0.8402\n",
            "Epoch 41/50\n",
            "60/60 [==============================] - 4s 67ms/step - loss: 0.3825 - acc: 0.8508\n",
            "Epoch 42/50\n",
            "60/60 [==============================] - 4s 68ms/step - loss: 0.3809 - acc: 0.8566\n",
            "Epoch 43/50\n",
            "60/60 [==============================] - 4s 67ms/step - loss: 0.3949 - acc: 0.8488\n",
            "Epoch 44/50\n",
            "60/60 [==============================] - 4s 67ms/step - loss: 0.4022 - acc: 0.8460\n",
            "Epoch 45/50\n",
            "60/60 [==============================] - 4s 67ms/step - loss: 0.3874 - acc: 0.8449\n",
            "Epoch 46/50\n",
            "60/60 [==============================] - 4s 68ms/step - loss: 0.3872 - acc: 0.8477\n",
            "Epoch 47/50\n",
            "60/60 [==============================] - 4s 68ms/step - loss: 0.3820 - acc: 0.8469\n",
            "Epoch 48/50\n",
            "60/60 [==============================] - 4s 68ms/step - loss: 0.3774 - acc: 0.8565\n",
            "Epoch 49/50\n",
            "60/60 [==============================] - 4s 66ms/step - loss: 0.4272 - acc: 0.8429\n",
            "Epoch 50/50\n",
            "60/60 [==============================] - 4s 67ms/step - loss: 0.3632 - acc: 0.8589\n"
          ],
          "name": "stdout"
        }
      ]
    },
    {
      "cell_type": "markdown",
      "metadata": {
        "colab_type": "text",
        "id": "kwsDYp8lYHK8"
      },
      "source": [
        "We can now evaluate the performances of the model on test data."
      ]
    },
    {
      "cell_type": "code",
      "metadata": {
        "colab_type": "code",
        "id": "LqNS_g1eYLaR",
        "outputId": "55cfd8bc-3047-4859-e268-397e5d3234a6",
        "colab": {
          "base_uri": "https://localhost:8080/",
          "height": 68
        }
      },
      "source": [
        "score = model.evaluate(X_test, Y_test, verbose=True)\n",
        "print('Test loss:', score[0])\n",
        "print('Test accuracy:', score[1])"
      ],
      "execution_count": 0,
      "outputs": [
        {
          "output_type": "stream",
          "text": [
            "949/949 [==============================] - 0s 403us/step\n",
            "Test loss: 6.983300295469005\n",
            "Test accuracy: 0.5637513175528218\n"
          ],
          "name": "stdout"
        }
      ]
    },
    {
      "cell_type": "markdown",
      "metadata": {
        "colab_type": "text",
        "id": "acCx_G9Y0Xwj"
      },
      "source": [
        "In the end, we plot accuracy and the loss over epochs during training."
      ]
    },
    {
      "cell_type": "code",
      "metadata": {
        "colab_type": "code",
        "id": "2HfheG6P0g8d",
        "outputId": "7070c764-dd16-4b44-c2db-27a778b5a816",
        "colab": {
          "base_uri": "https://localhost:8080/",
          "height": 279
        }
      },
      "source": [
        "loss = history.history[\"loss\"]\n",
        "acc = history.history[\"acc\"]\n",
        "plot_acc_loss(acc,loss)    "
      ],
      "execution_count": 0,
      "outputs": [
        {
          "output_type": "display_data",
          "data": {
            "image/png": "[encoded data removed]",
            "text/plain": [
              "<Figure size 432x288 with 1 Axes>"
            ]
          },
          "metadata": {
            "tags": []
          }
        }
      ]
    },
    {
      "cell_type": "markdown",
      "metadata": {
        "colab_type": "text",
        "id": "bgBg8dRNYdDI"
      },
      "source": [
        "Plotting the confusion matrix  might be useful in order to evaluate the overall performance of the network."
      ]
    },
    {
      "cell_type": "code",
      "metadata": {
        "colab_type": "code",
        "id": "QzP7rcV_YUDE",
        "outputId": "d2aca9c3-95fc-47d8-ceb1-cee0e72eac81",
        "colab": {
          "base_uri": "https://localhost:8080/",
          "height": 621
        }
      },
      "source": [
        "from sklearn.metrics import confusion_matrix\n",
        "import seaborn as sns\n",
        "Y_pred = model.predict(X_test)\n",
        "Y_pred_classes = np.argmax(Y_pred, axis = 1)\n",
        "Y_true = np.argmax(Y_test, axis = 1)\n",
        "confusionMatrix = confusion_matrix(Y_true, Y_pred_classes)\n",
        "f,ax=plt.subplots(figsize=(10,10))\n",
        "sns.heatmap(confusionMatrix, annot=True, linewidths=0.1, cmap = \"gist_yarg_r\", linecolor=\"black\", fmt='.0f', ax=ax)\n",
        "plt.xlabel(\"Predicted Label\")\n",
        "plt.ylabel(\"True Label\")\n",
        "plt.title(\"Confusion Matrix\")\n",
        "plt.show()"
      ],
      "execution_count": 0,
      "outputs": [
        {
          "output_type": "display_data",
          "data": {
            "image/png": "[encoded data removed]",
            "text/plain": [
              "<Figure size 720x720 with 2 Axes>"
            ]
          },
          "metadata": {
            "tags": []
          }
        }
      ]
    },
    {
      "cell_type": "markdown",
      "metadata": {
        "colab_type": "text",
        "id": "tK2-oGY7mIEo"
      },
      "source": [
        "As first interpretation, we can notice that the bias we had in input is replicated in output because the model learns very well how to predict **Italian honey bee** since it's the dominant class in the dataset. Moreover, the classifer tends to classify rare classes as belonging to **Italian honey bee class** as we can see from column 2 of the confusion matrix."
      ]
    },
    {
      "cell_type": "markdown",
      "metadata": {
        "id": "bk9zuFOmraq0",
        "colab_type": "text"
      },
      "source": [
        "# Targeting data scarcity with focused data augmentation"
      ]
    },
    {
      "cell_type": "markdown",
      "metadata": {
        "id": "o3NlDhum9IcE",
        "colab_type": "text"
      },
      "source": [
        "In the following we will consciously apply data augementation in order to take into account the actual data distribution. We already know that the dataset is strongly biased towards **Italian honey bee** class. Therefore, we might want to assign **weights** to each class during training, so that we end up paying more attention to rare classes. We can use 2 completely equivalent stategies:\n",
        "\n",
        "\n",
        "*   passing a dictionary associating a given weight to each class to *fit_generator* function, so that it can compute the loss accordingly;\n",
        "*   generating weighted samples by means of *ImageDataGenerator* itelsef, so that it can output batches of *(inputs, targets, sample_weights)*.\n",
        "\n",
        "\n",
        "From an implementative point of view, the difference is that first method uses weights for each class while the second one needs weights for each sample in the training dataset. However, both method are practically the same."
      ]
    },
    {
      "cell_type": "code",
      "metadata": {
        "id": "EG2i4Awm1Xsm",
        "colab_type": "code",
        "colab": {
          "base_uri": "https://localhost:8080/",
          "height": 102
        },
        "outputId": "d181b021-896f-44e7-d65e-4281b41918c8"
      },
      "source": [
        "from sklearn.utils import class_weight\n",
        "\n",
        "class_weights = class_weight.compute_class_weight('balanced', np.unique(encoded_labels), encoded_labels)\n",
        "class_weight_dict = dict(enumerate(class_weights))\n",
        "sample_weights = class_weight.compute_sample_weight('balanced', encoded_labels)\n",
        "print(\"class_weights : {}\\nclass_weights.shape: {}\\nclass_weights_dict : {}\\nsample_weights.shape : {}\\ny.shape : {}\"\n",
        "        .format(class_weights, class_weights.shape, class_weight_dict, sample_weights.shape, y.shape))"
      ],
      "execution_count": 89,
      "outputs": [
        {
          "output_type": "stream",
          "text": [
            "class_weights : [ 1.67514124  1.57817698  0.26285461  1.50031626  3.97319933 21.36936937]\n",
            "class_weights.shape: (6,)\n",
            "class_weights_dict : {0: 1.6751412429378532, 1: 1.5781769793745841, 2: 0.262854609929078, 3: 1.5003162555344718, 4: 3.9731993299832498, 5: 21.36936936936937}\n",
            "sample_weights.shape : (4744,)\n",
            "y.shape : (4744, 6)\n"
          ],
          "name": "stdout"
        }
      ]
    },
    {
      "cell_type": "code",
      "metadata": {
        "id": "oMktW8mrQPmi",
        "colab_type": "code",
        "outputId": "0886e80e-5e78-491f-983c-731b858ff773",
        "colab": {
          "base_uri": "https://localhost:8080/",
          "height": 102
        }
      },
      "source": [
        "X_train, X_test, Y_train, Y_test, sample_weights_train, sample_weights_test = train_test_split(reshaped_images, y, sample_weights, test_size=0.2, random_state=2020)\n",
        "print(\"X_train.shape = {}\\nX_test.shape = {}\\ny_train.shape = {}\\ny_test.shape = {}\\nweights_train.shape = {}\"\n",
        "      .format(X_train.shape, X_test.shape, Y_train.shape, Y_test.shape,weights_train.shape))"
      ],
      "execution_count": 90,
      "outputs": [
        {
          "output_type": "stream",
          "text": [
            "X_train.shape = (3795, 64, 64, 3)\n",
            "X_test.shape = (949, 64, 64, 3)\n",
            "y_train.shape = (3795, 6)\n",
            "y_test.shape = (949, 6)\n",
            "weights_train.shape = (3795,)\n"
          ],
          "name": "stdout"
        }
      ]
    },
    {
      "cell_type": "markdown",
      "metadata": {
        "id": "jdlsEjUjKodo",
        "colab_type": "text"
      },
      "source": [
        "Now that we have both *class_weights* and *sample_weights* we can train the model again taking into account the actual classes' distribution. It's possible to switch between the first and the second implementation by means of *weighted_data_augmentation* flag."
      ]
    },
    {
      "cell_type": "code",
      "metadata": {
        "id": "1oUfGzEuSZkk",
        "colab_type": "code",
        "outputId": "b8ad6ed9-cd57-4370-86c0-910391bd2268",
        "colab": {
          "base_uri": "https://localhost:8080/",
          "height": 1000
        }
      },
      "source": [
        "n_epochs = 500\n",
        "batch_size = 64\n",
        "model = deepcopy(model_copy)\n",
        "\n",
        "weighted_data_augmentation = True\n",
        "if not weighted_data_augmentation:\n",
        "    history = model.fit_generator(\n",
        "        train_datagen.flow(x = X_train, y = Y_train, batch_size=batch_size, shuffle=True),\n",
        "        validation_data = (X_test, Y_test, sample_weights_test),\n",
        "        steps_per_epoch=ceil(len(X_train)/ batch_size),\n",
        "        epochs=n_epochs,\n",
        "        class_weight = class_weight_dict,\n",
        "        verbose = 1\n",
        "    )\n",
        "else:\n",
        "    history = model.fit_generator(\n",
        "        train_datagen.flow(x = X_train, y = Y_train, batch_size=batch_size, shuffle=True, sample_weight=sample_weights_train),\n",
        "        validation_data = (X_test, Y_test, sample_weights_test),\n",
        "        steps_per_epoch=ceil(len(X_train)/ batch_size),\n",
        "        epochs=n_epochs,\n",
        "        verbose = 1\n",
        "    )"
      ],
      "execution_count": 101,
      "outputs": [
        {
          "output_type": "stream",
          "text": [
            "Epoch 1/500\n",
            "60/60 [==============================] - 4s 74ms/step - loss: 1.7215 - acc: 0.1281 - val_loss: 13.0386 - val_acc: 0.1043\n",
            "Epoch 2/500\n",
            "60/60 [==============================] - 4s 66ms/step - loss: 1.7025 - acc: 0.1732 - val_loss: 14.8851 - val_acc: 0.1012\n",
            "Epoch 3/500\n",
            "60/60 [==============================] - 4s 67ms/step - loss: 1.6738 - acc: 0.2533 - val_loss: 14.7486 - val_acc: 0.1117\n",
            "Epoch 4/500\n",
            "60/60 [==============================] - 4s 68ms/step - loss: 1.5736 - acc: 0.4507 - val_loss: 15.2043 - val_acc: 0.1328\n",
            "Epoch 5/500\n",
            "60/60 [==============================] - 4s 68ms/step - loss: 1.4297 - acc: 0.4972 - val_loss: 15.2358 - val_acc: 0.1349\n",
            "Epoch 6/500\n",
            "60/60 [==============================] - 4s 66ms/step - loss: 1.3186 - acc: 0.4286 - val_loss: 14.9353 - val_acc: 0.1359\n",
            "Epoch 7/500\n",
            "60/60 [==============================] - 4s 67ms/step - loss: 1.3010 - acc: 0.4756 - val_loss: 13.9773 - val_acc: 0.1043\n",
            "Epoch 8/500\n",
            "60/60 [==============================] - 4s 68ms/step - loss: 1.2714 - acc: 0.4276 - val_loss: 15.1928 - val_acc: 0.1370\n",
            "Epoch 9/500\n",
            "60/60 [==============================] - 4s 66ms/step - loss: 1.2207 - acc: 0.4655 - val_loss: 15.0089 - val_acc: 0.1465\n",
            "Epoch 10/500\n",
            "60/60 [==============================] - 4s 68ms/step - loss: 1.2250 - acc: 0.4591 - val_loss: 15.1169 - val_acc: 0.1401\n",
            "Epoch 11/500\n",
            "60/60 [==============================] - 4s 68ms/step - loss: 1.1541 - acc: 0.4670 - val_loss: 14.9765 - val_acc: 0.1465\n",
            "Epoch 12/500\n",
            "60/60 [==============================] - 4s 68ms/step - loss: 1.1039 - acc: 0.4663 - val_loss: 10.8762 - val_acc: 0.1581\n",
            "Epoch 13/500\n",
            "60/60 [==============================] - 4s 67ms/step - loss: 1.3891 - acc: 0.5122 - val_loss: 14.8966 - val_acc: 0.1507\n",
            "Epoch 14/500\n",
            "60/60 [==============================] - 4s 67ms/step - loss: 1.1469 - acc: 0.5305 - val_loss: 14.5047 - val_acc: 0.1623\n",
            "Epoch 15/500\n",
            "60/60 [==============================] - 4s 67ms/step - loss: 1.1181 - acc: 0.5000 - val_loss: 15.0828 - val_acc: 0.1391\n",
            "Epoch 16/500\n",
            "60/60 [==============================] - 4s 67ms/step - loss: 1.1088 - acc: 0.5042 - val_loss: 15.3559 - val_acc: 0.1328\n",
            "Epoch 17/500\n",
            "60/60 [==============================] - 4s 67ms/step - loss: 1.0013 - acc: 0.5146 - val_loss: 15.3017 - val_acc: 0.1338\n",
            "Epoch 18/500\n",
            "60/60 [==============================] - 4s 67ms/step - loss: 0.9894 - acc: 0.5306 - val_loss: 14.9570 - val_acc: 0.1412\n",
            "Epoch 19/500\n",
            "60/60 [==============================] - 4s 68ms/step - loss: 0.8001 - acc: 0.5554 - val_loss: 11.8876 - val_acc: 0.1170\n",
            "Epoch 20/500\n",
            "60/60 [==============================] - 4s 67ms/step - loss: 0.8828 - acc: 0.5780 - val_loss: 13.9393 - val_acc: 0.1128\n",
            "Epoch 21/500\n",
            "60/60 [==============================] - 4s 67ms/step - loss: 0.7154 - acc: 0.5959 - val_loss: 11.7526 - val_acc: 0.1191\n",
            "Epoch 22/500\n",
            "60/60 [==============================] - 4s 67ms/step - loss: 0.8672 - acc: 0.5980 - val_loss: 11.7121 - val_acc: 0.1191\n",
            "Epoch 23/500\n",
            "60/60 [==============================] - 4s 66ms/step - loss: 0.6352 - acc: 0.6153 - val_loss: 11.1608 - val_acc: 0.1159\n",
            "Epoch 24/500\n",
            "60/60 [==============================] - 4s 67ms/step - loss: 0.6328 - acc: 0.6116 - val_loss: 11.4394 - val_acc: 0.1180\n",
            "Epoch 25/500\n",
            "60/60 [==============================] - 4s 67ms/step - loss: 0.9647 - acc: 0.6031 - val_loss: 13.6230 - val_acc: 0.0211\n",
            "Epoch 26/500\n",
            "60/60 [==============================] - 4s 67ms/step - loss: 1.0303 - acc: 0.5291 - val_loss: 13.8686 - val_acc: 0.0137\n",
            "Epoch 27/500\n",
            "60/60 [==============================] - 4s 70ms/step - loss: 0.7632 - acc: 0.5649 - val_loss: 11.1176 - val_acc: 0.1170\n",
            "Epoch 28/500\n",
            "60/60 [==============================] - 4s 68ms/step - loss: 0.7606 - acc: 0.5610 - val_loss: 13.0119 - val_acc: 0.0453\n",
            "Epoch 29/500\n",
            "60/60 [==============================] - 4s 68ms/step - loss: 0.6414 - acc: 0.5920 - val_loss: 13.6049 - val_acc: 0.0242\n",
            "Epoch 30/500\n",
            "60/60 [==============================] - 4s 67ms/step - loss: 0.6066 - acc: 0.6006 - val_loss: 13.7355 - val_acc: 0.0190\n",
            "Epoch 31/500\n",
            "60/60 [==============================] - 4s 68ms/step - loss: 0.5944 - acc: 0.6109 - val_loss: 13.5608 - val_acc: 0.0316\n",
            "Epoch 32/500\n",
            "60/60 [==============================] - 4s 67ms/step - loss: 0.5177 - acc: 0.6344 - val_loss: 13.7342 - val_acc: 0.0295\n",
            "Epoch 33/500\n",
            "60/60 [==============================] - 4s 67ms/step - loss: 0.6127 - acc: 0.6129 - val_loss: 13.5143 - val_acc: 0.0411\n",
            "Epoch 34/500\n",
            "60/60 [==============================] - 4s 67ms/step - loss: 0.6248 - acc: 0.6296 - val_loss: 13.2667 - val_acc: 0.0738\n",
            "Epoch 35/500\n",
            "60/60 [==============================] - 4s 67ms/step - loss: 0.5631 - acc: 0.6542 - val_loss: 12.9970 - val_acc: 0.1096\n",
            "Epoch 36/500\n",
            "60/60 [==============================] - 4s 67ms/step - loss: 0.4511 - acc: 0.6795 - val_loss: 13.0653 - val_acc: 0.1423\n",
            "Epoch 37/500\n",
            "60/60 [==============================] - 4s 67ms/step - loss: 0.4810 - acc: 0.6726 - val_loss: 12.3422 - val_acc: 0.0875\n",
            "Epoch 38/500\n",
            "60/60 [==============================] - 4s 67ms/step - loss: 0.4134 - acc: 0.6907 - val_loss: 12.9557 - val_acc: 0.2329\n",
            "Epoch 39/500\n",
            "60/60 [==============================] - 4s 67ms/step - loss: 0.5722 - acc: 0.6736 - val_loss: 11.6277 - val_acc: 0.1496\n",
            "Epoch 40/500\n",
            "60/60 [==============================] - 4s 67ms/step - loss: 0.3967 - acc: 0.7220 - val_loss: 12.6799 - val_acc: 0.1401\n",
            "Epoch 41/500\n",
            "60/60 [==============================] - 4s 67ms/step - loss: 0.8703 - acc: 0.6251 - val_loss: 15.5442 - val_acc: 0.1465\n",
            "Epoch 42/500\n",
            "60/60 [==============================] - 4s 67ms/step - loss: 0.7141 - acc: 0.6227 - val_loss: 12.2831 - val_acc: 0.0917\n",
            "Epoch 43/500\n",
            "60/60 [==============================] - 4s 69ms/step - loss: 0.4300 - acc: 0.7084 - val_loss: 13.0091 - val_acc: 0.0622\n",
            "Epoch 44/500\n",
            "60/60 [==============================] - 4s 66ms/step - loss: 0.3959 - acc: 0.7172 - val_loss: 12.4726 - val_acc: 0.1855\n",
            "Epoch 45/500\n",
            "60/60 [==============================] - 4s 67ms/step - loss: 0.3619 - acc: 0.7378 - val_loss: 13.2907 - val_acc: 0.2065\n",
            "Epoch 46/500\n",
            "60/60 [==============================] - 4s 68ms/step - loss: 0.3712 - acc: 0.7649 - val_loss: 12.7065 - val_acc: 0.2150\n",
            "Epoch 47/500\n",
            "60/60 [==============================] - 4s 67ms/step - loss: 0.3832 - acc: 0.7441 - val_loss: 12.7608 - val_acc: 0.2687\n",
            "Epoch 48/500\n",
            "60/60 [==============================] - 4s 67ms/step - loss: 0.3239 - acc: 0.7745 - val_loss: 12.5850 - val_acc: 0.3351\n",
            "Epoch 49/500\n",
            "60/60 [==============================] - 4s 68ms/step - loss: 0.6603 - acc: 0.7330 - val_loss: 12.3788 - val_acc: 0.2497\n",
            "Epoch 50/500\n",
            "60/60 [==============================] - 4s 67ms/step - loss: 0.3292 - acc: 0.7665 - val_loss: 12.5943 - val_acc: 0.2086\n",
            "Epoch 51/500\n",
            "60/60 [==============================] - 4s 68ms/step - loss: 0.3239 - acc: 0.7648 - val_loss: 13.7464 - val_acc: 0.0411\n",
            "Epoch 52/500\n",
            "60/60 [==============================] - 4s 67ms/step - loss: 0.2947 - acc: 0.7846 - val_loss: 13.6347 - val_acc: 0.2065\n",
            "Epoch 53/500\n",
            "60/60 [==============================] - 4s 67ms/step - loss: 1.0157 - acc: 0.6330 - val_loss: 13.6388 - val_acc: 0.0653\n",
            "Epoch 54/500\n",
            "60/60 [==============================] - 4s 67ms/step - loss: 0.3786 - acc: 0.7427 - val_loss: 13.6544 - val_acc: 0.1264\n",
            "Epoch 55/500\n",
            "60/60 [==============================] - 4s 66ms/step - loss: 0.3131 - acc: 0.7752 - val_loss: 13.6464 - val_acc: 0.0674\n",
            "Epoch 56/500\n",
            "60/60 [==============================] - 4s 66ms/step - loss: 1.2483 - acc: 0.6850 - val_loss: 10.1822 - val_acc: 0.0474\n",
            "Epoch 57/500\n",
            "60/60 [==============================] - 4s 67ms/step - loss: 1.4296 - acc: 0.3795 - val_loss: 13.2531 - val_acc: 0.0421\n",
            "Epoch 58/500\n",
            "60/60 [==============================] - 4s 66ms/step - loss: 1.3104 - acc: 0.3996 - val_loss: 15.2486 - val_acc: 0.1496\n",
            "Epoch 59/500\n",
            "60/60 [==============================] - 4s 66ms/step - loss: 1.2270 - acc: 0.4231 - val_loss: 13.6886 - val_acc: 0.0274\n",
            "Epoch 60/500\n",
            "60/60 [==============================] - 4s 66ms/step - loss: 1.1407 - acc: 0.4648 - val_loss: 13.1040 - val_acc: 0.1675\n",
            "Epoch 61/500\n",
            "60/60 [==============================] - 4s 66ms/step - loss: 1.1076 - acc: 0.4806 - val_loss: 10.4267 - val_acc: 0.2044\n",
            "Epoch 62/500\n",
            "60/60 [==============================] - 4s 67ms/step - loss: 0.9460 - acc: 0.5544 - val_loss: 14.4611 - val_acc: 0.2339\n",
            "Epoch 63/500\n",
            "60/60 [==============================] - 4s 66ms/step - loss: 0.9056 - acc: 0.5824 - val_loss: 13.8262 - val_acc: 0.0253\n",
            "Epoch 64/500\n",
            "60/60 [==============================] - 4s 67ms/step - loss: 0.7857 - acc: 0.5820 - val_loss: 10.3121 - val_acc: 0.3309\n",
            "Epoch 65/500\n",
            "60/60 [==============================] - 4s 67ms/step - loss: 0.7000 - acc: 0.6079 - val_loss: 11.0241 - val_acc: 0.3024\n",
            "Epoch 66/500\n",
            "60/60 [==============================] - 4s 66ms/step - loss: 0.6513 - acc: 0.6323 - val_loss: 12.3896 - val_acc: 0.0969\n",
            "Epoch 67/500\n",
            "60/60 [==============================] - 4s 67ms/step - loss: 0.7439 - acc: 0.6294 - val_loss: 12.7592 - val_acc: 0.1380\n",
            "Epoch 68/500\n",
            "60/60 [==============================] - 4s 67ms/step - loss: 0.6172 - acc: 0.6558 - val_loss: 12.1139 - val_acc: 0.2276\n",
            "Epoch 69/500\n",
            "60/60 [==============================] - 4s 67ms/step - loss: 0.5826 - acc: 0.6828 - val_loss: 13.3522 - val_acc: 0.3119\n",
            "Epoch 70/500\n",
            "60/60 [==============================] - 4s 67ms/step - loss: 0.4929 - acc: 0.7117 - val_loss: 13.4767 - val_acc: 0.1644\n",
            "Epoch 71/500\n",
            "60/60 [==============================] - 4s 68ms/step - loss: 0.7156 - acc: 0.6607 - val_loss: 12.4459 - val_acc: 0.1844\n",
            "Epoch 72/500\n",
            "60/60 [==============================] - 4s 68ms/step - loss: 0.7687 - acc: 0.6121 - val_loss: 13.6690 - val_acc: 0.0622\n",
            "Epoch 73/500\n",
            "60/60 [==============================] - 4s 66ms/step - loss: 0.4493 - acc: 0.7066 - val_loss: 13.9518 - val_acc: 0.1665\n",
            "Epoch 74/500\n",
            "60/60 [==============================] - 4s 67ms/step - loss: 0.6436 - acc: 0.6770 - val_loss: 13.7195 - val_acc: 0.1349\n",
            "Epoch 75/500\n",
            "60/60 [==============================] - 4s 67ms/step - loss: 0.4003 - acc: 0.7365 - val_loss: 13.9215 - val_acc: 0.1728\n",
            "Epoch 76/500\n",
            "60/60 [==============================] - 4s 67ms/step - loss: 0.3570 - acc: 0.7611 - val_loss: 13.9884 - val_acc: 0.1570\n",
            "Epoch 77/500\n",
            "60/60 [==============================] - 4s 66ms/step - loss: 0.5276 - acc: 0.7131 - val_loss: 13.6692 - val_acc: 0.1486\n",
            "Epoch 78/500\n",
            "60/60 [==============================] - 4s 68ms/step - loss: 0.3178 - acc: 0.7681 - val_loss: 13.8350 - val_acc: 0.1928\n",
            "Epoch 79/500\n",
            "60/60 [==============================] - 4s 66ms/step - loss: 0.3528 - acc: 0.7556 - val_loss: 13.5267 - val_acc: 0.0959\n",
            "Epoch 80/500\n",
            "60/60 [==============================] - 4s 66ms/step - loss: 0.4277 - acc: 0.7439 - val_loss: 13.4961 - val_acc: 0.1033\n",
            "Epoch 81/500\n",
            "60/60 [==============================] - 4s 66ms/step - loss: 0.3002 - acc: 0.7803 - val_loss: 13.4095 - val_acc: 0.1243\n",
            "Epoch 82/500\n",
            "60/60 [==============================] - 4s 67ms/step - loss: 0.2986 - acc: 0.7834 - val_loss: 13.2993 - val_acc: 0.1686\n",
            "Epoch 83/500\n",
            "60/60 [==============================] - 4s 67ms/step - loss: 0.2882 - acc: 0.7881 - val_loss: 13.6789 - val_acc: 0.0601\n",
            "Epoch 84/500\n",
            "60/60 [==============================] - 4s 66ms/step - loss: 0.3362 - acc: 0.7768 - val_loss: 13.3528 - val_acc: 0.1075\n",
            "Epoch 85/500\n",
            "60/60 [==============================] - 4s 67ms/step - loss: 0.2491 - acc: 0.8064 - val_loss: 13.0503 - val_acc: 0.1739\n",
            "Epoch 86/500\n",
            "60/60 [==============================] - 4s 67ms/step - loss: 0.2416 - acc: 0.8130 - val_loss: 12.9524 - val_acc: 0.1992\n",
            "Epoch 87/500\n",
            "60/60 [==============================] - 4s 68ms/step - loss: 0.3044 - acc: 0.7748 - val_loss: 13.1273 - val_acc: 0.1560\n",
            "Epoch 88/500\n",
            "60/60 [==============================] - 4s 67ms/step - loss: 0.2667 - acc: 0.8090 - val_loss: 13.4989 - val_acc: 0.0727\n",
            "Epoch 89/500\n",
            "60/60 [==============================] - 4s 67ms/step - loss: 0.6143 - acc: 0.6606 - val_loss: 10.7806 - val_acc: 0.1507\n",
            "Epoch 90/500\n",
            "60/60 [==============================] - 4s 67ms/step - loss: 0.3670 - acc: 0.7250 - val_loss: 13.3207 - val_acc: 0.0980\n",
            "Epoch 91/500\n",
            "60/60 [==============================] - 4s 68ms/step - loss: 0.2942 - acc: 0.7799 - val_loss: 12.9296 - val_acc: 0.1317\n",
            "Epoch 92/500\n",
            "60/60 [==============================] - 4s 68ms/step - loss: 0.2760 - acc: 0.7886 - val_loss: 12.8325 - val_acc: 0.2434\n",
            "Epoch 93/500\n",
            "60/60 [==============================] - 4s 67ms/step - loss: 0.2626 - acc: 0.8035 - val_loss: 13.1916 - val_acc: 0.1560\n",
            "Epoch 94/500\n",
            "60/60 [==============================] - 4s 67ms/step - loss: 0.5081 - acc: 0.7788 - val_loss: 12.7006 - val_acc: 0.1791\n",
            "Epoch 95/500\n",
            "60/60 [==============================] - 4s 67ms/step - loss: 0.2469 - acc: 0.8077 - val_loss: 12.6710 - val_acc: 0.1928\n",
            "Epoch 96/500\n",
            "60/60 [==============================] - 4s 67ms/step - loss: 0.2688 - acc: 0.8052 - val_loss: 12.7779 - val_acc: 0.2908\n",
            "Epoch 97/500\n",
            "60/60 [==============================] - 4s 66ms/step - loss: 0.3956 - acc: 0.7770 - val_loss: 13.0858 - val_acc: 0.1496\n",
            "Epoch 98/500\n",
            "60/60 [==============================] - 4s 67ms/step - loss: 0.2570 - acc: 0.8099 - val_loss: 12.3468 - val_acc: 0.1222\n",
            "Epoch 99/500\n",
            "60/60 [==============================] - 4s 67ms/step - loss: 0.2645 - acc: 0.7921 - val_loss: 12.9494 - val_acc: 0.2813\n",
            "Epoch 100/500\n",
            "60/60 [==============================] - 4s 67ms/step - loss: 0.2732 - acc: 0.8092 - val_loss: 13.2405 - val_acc: 0.3203\n",
            "Epoch 101/500\n",
            "60/60 [==============================] - 4s 67ms/step - loss: 0.2294 - acc: 0.8288 - val_loss: 12.7154 - val_acc: 0.3193\n",
            "Epoch 102/500\n",
            "60/60 [==============================] - 4s 67ms/step - loss: 0.2396 - acc: 0.8270 - val_loss: 12.6916 - val_acc: 0.2655\n",
            "Epoch 103/500\n",
            "60/60 [==============================] - 4s 68ms/step - loss: 0.2024 - acc: 0.8360 - val_loss: 13.2626 - val_acc: 0.3066\n",
            "Epoch 104/500\n",
            "60/60 [==============================] - 4s 69ms/step - loss: 0.2057 - acc: 0.8347 - val_loss: 13.2968 - val_acc: 0.3024\n",
            "Epoch 105/500\n",
            "60/60 [==============================] - 4s 69ms/step - loss: 0.2277 - acc: 0.8303 - val_loss: 13.0527 - val_acc: 0.3762\n",
            "Epoch 106/500\n",
            "60/60 [==============================] - 4s 68ms/step - loss: 0.2812 - acc: 0.8137 - val_loss: 13.0827 - val_acc: 0.3393\n",
            "Epoch 107/500\n",
            "60/60 [==============================] - 4s 69ms/step - loss: 0.2195 - acc: 0.8285 - val_loss: 12.9175 - val_acc: 0.3246\n",
            "Epoch 108/500\n",
            "60/60 [==============================] - 4s 66ms/step - loss: 0.2155 - acc: 0.8232 - val_loss: 12.8778 - val_acc: 0.3330\n",
            "Epoch 109/500\n",
            "60/60 [==============================] - 4s 67ms/step - loss: 0.2000 - acc: 0.8356 - val_loss: 12.8861 - val_acc: 0.3298\n",
            "Epoch 110/500\n",
            "60/60 [==============================] - 4s 68ms/step - loss: 0.1907 - acc: 0.8462 - val_loss: 12.7806 - val_acc: 0.3551\n",
            "Epoch 111/500\n",
            "60/60 [==============================] - 4s 67ms/step - loss: 0.1895 - acc: 0.8467 - val_loss: 12.5047 - val_acc: 0.4162\n",
            "Epoch 112/500\n",
            "60/60 [==============================] - 4s 67ms/step - loss: 1.1324 - acc: 0.7459 - val_loss: 13.6304 - val_acc: 0.0516\n",
            "Epoch 113/500\n",
            "60/60 [==============================] - 4s 67ms/step - loss: 0.4132 - acc: 0.6618 - val_loss: 13.6249 - val_acc: 0.0738\n",
            "Epoch 114/500\n",
            "60/60 [==============================] - 4s 67ms/step - loss: 0.2682 - acc: 0.7827 - val_loss: 13.0839 - val_acc: 0.1981\n",
            "Epoch 115/500\n",
            "60/60 [==============================] - 4s 66ms/step - loss: 0.5383 - acc: 0.7260 - val_loss: 13.4815 - val_acc: 0.1612\n",
            "Epoch 116/500\n",
            "60/60 [==============================] - 4s 67ms/step - loss: 0.2452 - acc: 0.8100 - val_loss: 13.6162 - val_acc: 0.2445\n",
            "Epoch 117/500\n",
            "60/60 [==============================] - 4s 67ms/step - loss: 0.1941 - acc: 0.8425 - val_loss: 13.5526 - val_acc: 0.2582\n",
            "Epoch 118/500\n",
            "60/60 [==============================] - 4s 67ms/step - loss: 0.2005 - acc: 0.8367 - val_loss: 13.2896 - val_acc: 0.3193\n",
            "Epoch 119/500\n",
            "60/60 [==============================] - 4s 66ms/step - loss: 0.1919 - acc: 0.8486 - val_loss: 13.0530 - val_acc: 0.3783\n",
            "Epoch 120/500\n",
            "60/60 [==============================] - 4s 67ms/step - loss: 0.2146 - acc: 0.8383 - val_loss: 14.0892 - val_acc: 0.4710\n",
            "Epoch 121/500\n",
            "60/60 [==============================] - 4s 67ms/step - loss: 0.2003 - acc: 0.8459 - val_loss: 13.1761 - val_acc: 0.4320\n",
            "Epoch 122/500\n",
            "60/60 [==============================] - 4s 67ms/step - loss: 0.2411 - acc: 0.8261 - val_loss: 13.1518 - val_acc: 0.1812\n",
            "Epoch 123/500\n",
            "60/60 [==============================] - 4s 67ms/step - loss: 0.1867 - acc: 0.8461 - val_loss: 12.8897 - val_acc: 0.4131\n",
            "Epoch 124/500\n",
            "60/60 [==============================] - 4s 66ms/step - loss: 0.1788 - acc: 0.8577 - val_loss: 12.7103 - val_acc: 0.4573\n",
            "Epoch 125/500\n",
            "60/60 [==============================] - 4s 67ms/step - loss: 0.1717 - acc: 0.8589 - val_loss: 12.7665 - val_acc: 0.4457\n",
            "Epoch 126/500\n",
            "60/60 [==============================] - 4s 67ms/step - loss: 0.1741 - acc: 0.8569 - val_loss: 13.6910 - val_acc: 0.4584\n",
            "Epoch 127/500\n",
            "60/60 [==============================] - 4s 67ms/step - loss: 0.1814 - acc: 0.8607 - val_loss: 12.6612 - val_acc: 0.4668\n",
            "Epoch 128/500\n",
            "60/60 [==============================] - 4s 67ms/step - loss: 0.3269 - acc: 0.8198 - val_loss: 11.9842 - val_acc: 0.2476\n",
            "Epoch 129/500\n",
            "60/60 [==============================] - 4s 67ms/step - loss: 0.2066 - acc: 0.8340 - val_loss: 15.9888 - val_acc: 0.4974\n",
            "Epoch 130/500\n",
            "60/60 [==============================] - 4s 68ms/step - loss: 0.1654 - acc: 0.8660 - val_loss: 14.0396 - val_acc: 0.4837\n",
            "Epoch 131/500\n",
            "60/60 [==============================] - 4s 67ms/step - loss: 0.1681 - acc: 0.8610 - val_loss: 14.2559 - val_acc: 0.4921\n",
            "Epoch 132/500\n",
            "60/60 [==============================] - 4s 68ms/step - loss: 0.1927 - acc: 0.8519 - val_loss: 13.4014 - val_acc: 0.4615\n",
            "Epoch 133/500\n",
            "60/60 [==============================] - 4s 67ms/step - loss: 0.1800 - acc: 0.8576 - val_loss: 16.3866 - val_acc: 0.5216\n",
            "Epoch 134/500\n",
            "60/60 [==============================] - 4s 67ms/step - loss: 0.1626 - acc: 0.8682 - val_loss: 13.6519 - val_acc: 0.4879\n",
            "Epoch 135/500\n",
            "60/60 [==============================] - 4s 67ms/step - loss: 0.1835 - acc: 0.8570 - val_loss: 15.8020 - val_acc: 0.4889\n",
            "Epoch 136/500\n",
            "60/60 [==============================] - 4s 67ms/step - loss: 0.1723 - acc: 0.8572 - val_loss: 15.4164 - val_acc: 0.4910\n",
            "Epoch 137/500\n",
            "60/60 [==============================] - 4s 67ms/step - loss: 0.1756 - acc: 0.8557 - val_loss: 14.3804 - val_acc: 0.4879\n",
            "Epoch 138/500\n",
            "60/60 [==============================] - 4s 67ms/step - loss: 0.1544 - acc: 0.8648 - val_loss: 15.7877 - val_acc: 0.4942\n",
            "Epoch 139/500\n",
            "60/60 [==============================] - 4s 67ms/step - loss: 0.1529 - acc: 0.8696 - val_loss: 15.7443 - val_acc: 0.5026\n",
            "Epoch 140/500\n",
            "60/60 [==============================] - 4s 67ms/step - loss: 0.6684 - acc: 0.7758 - val_loss: 12.6471 - val_acc: 0.2624\n",
            "Epoch 141/500\n",
            "60/60 [==============================] - 4s 67ms/step - loss: 0.2497 - acc: 0.8024 - val_loss: 12.6337 - val_acc: 0.4742\n",
            "Epoch 142/500\n",
            "60/60 [==============================] - 4s 68ms/step - loss: 0.2703 - acc: 0.8170 - val_loss: 12.7423 - val_acc: 0.4521\n",
            "Epoch 143/500\n",
            "60/60 [==============================] - 4s 66ms/step - loss: 0.1909 - acc: 0.8374 - val_loss: 15.0210 - val_acc: 0.4995\n",
            "Epoch 144/500\n",
            "60/60 [==============================] - 4s 67ms/step - loss: 0.1727 - acc: 0.8528 - val_loss: 12.5803 - val_acc: 0.4879\n",
            "Epoch 145/500\n",
            "60/60 [==============================] - 4s 67ms/step - loss: 0.1564 - acc: 0.8633 - val_loss: 14.6496 - val_acc: 0.5090\n",
            "Epoch 146/500\n",
            "60/60 [==============================] - 4s 67ms/step - loss: 0.1610 - acc: 0.8646 - val_loss: 14.6701 - val_acc: 0.5047\n",
            "Epoch 147/500\n",
            "60/60 [==============================] - 4s 67ms/step - loss: 0.1691 - acc: 0.8536 - val_loss: 15.6945 - val_acc: 0.5153\n",
            "Epoch 148/500\n",
            "60/60 [==============================] - 4s 67ms/step - loss: 0.1423 - acc: 0.8806 - val_loss: 14.9858 - val_acc: 0.5142\n",
            "Epoch 149/500\n",
            "60/60 [==============================] - 4s 67ms/step - loss: 0.1437 - acc: 0.8747 - val_loss: 16.4178 - val_acc: 0.5142\n",
            "Epoch 150/500\n",
            "60/60 [==============================] - 4s 68ms/step - loss: 0.2720 - acc: 0.8610 - val_loss: 12.6249 - val_acc: 0.0906\n",
            "Epoch 151/500\n",
            "60/60 [==============================] - 4s 67ms/step - loss: 0.2191 - acc: 0.8205 - val_loss: 16.1114 - val_acc: 0.5016\n",
            "Epoch 152/500\n",
            "60/60 [==============================] - 4s 68ms/step - loss: 0.1813 - acc: 0.8591 - val_loss: 16.4384 - val_acc: 0.5090\n",
            "Epoch 153/500\n",
            "60/60 [==============================] - 4s 67ms/step - loss: 0.1654 - acc: 0.8708 - val_loss: 16.3846 - val_acc: 0.5227\n",
            "Epoch 154/500\n",
            "60/60 [==============================] - 4s 66ms/step - loss: 0.2162 - acc: 0.8460 - val_loss: 16.4747 - val_acc: 0.5016\n",
            "Epoch 155/500\n",
            "60/60 [==============================] - 4s 67ms/step - loss: 0.1544 - acc: 0.8729 - val_loss: 15.7144 - val_acc: 0.5121\n",
            "Epoch 156/500\n",
            "60/60 [==============================] - 4s 67ms/step - loss: 0.1546 - acc: 0.8684 - val_loss: 16.4124 - val_acc: 0.5163\n",
            "Epoch 157/500\n",
            "60/60 [==============================] - 4s 67ms/step - loss: 0.1570 - acc: 0.8785 - val_loss: 16.4211 - val_acc: 0.5142\n",
            "Epoch 158/500\n",
            "60/60 [==============================] - 4s 66ms/step - loss: 0.1548 - acc: 0.8658 - val_loss: 16.3885 - val_acc: 0.5216\n",
            "Epoch 159/500\n",
            "60/60 [==============================] - 4s 67ms/step - loss: 0.1560 - acc: 0.8750 - val_loss: 16.4062 - val_acc: 0.5174\n",
            "Epoch 160/500\n",
            "60/60 [==============================] - 4s 67ms/step - loss: 0.1466 - acc: 0.8795 - val_loss: 16.4756 - val_acc: 0.5016\n",
            "Epoch 161/500\n",
            "60/60 [==============================] - 4s 66ms/step - loss: 0.1408 - acc: 0.8786 - val_loss: 16.3912 - val_acc: 0.5216\n",
            "Epoch 162/500\n",
            "60/60 [==============================] - 4s 67ms/step - loss: 0.1349 - acc: 0.8866 - val_loss: 16.4403 - val_acc: 0.5100\n",
            "Epoch 163/500\n",
            "60/60 [==============================] - 4s 66ms/step - loss: 0.1464 - acc: 0.8731 - val_loss: 16.3583 - val_acc: 0.5279\n",
            "Epoch 164/500\n",
            "60/60 [==============================] - 4s 69ms/step - loss: 0.1344 - acc: 0.8865 - val_loss: 16.4359 - val_acc: 0.5111\n",
            "Epoch 165/500\n",
            "60/60 [==============================] - 4s 66ms/step - loss: 0.1388 - acc: 0.8880 - val_loss: 14.7775 - val_acc: 0.4795\n",
            "Epoch 166/500\n",
            "60/60 [==============================] - 4s 66ms/step - loss: 0.1377 - acc: 0.8793 - val_loss: 16.3377 - val_acc: 0.5342\n",
            "Epoch 167/500\n",
            "60/60 [==============================] - 4s 67ms/step - loss: 0.2132 - acc: 0.8697 - val_loss: 16.4283 - val_acc: 0.5068\n",
            "Epoch 168/500\n",
            "60/60 [==============================] - 4s 67ms/step - loss: 0.1468 - acc: 0.8772 - val_loss: 16.4332 - val_acc: 0.5111\n",
            "Epoch 169/500\n",
            "60/60 [==============================] - 4s 66ms/step - loss: 0.1279 - acc: 0.8873 - val_loss: 16.3457 - val_acc: 0.5311\n",
            "Epoch 170/500\n",
            "60/60 [==============================] - 4s 68ms/step - loss: 0.3701 - acc: 0.8449 - val_loss: 12.5655 - val_acc: 0.4067\n",
            "Epoch 171/500\n",
            "60/60 [==============================] - 4s 68ms/step - loss: 0.1590 - acc: 0.8724 - val_loss: 16.4083 - val_acc: 0.5163\n",
            "Epoch 172/500\n",
            "60/60 [==============================] - 4s 67ms/step - loss: 0.1391 - acc: 0.8856 - val_loss: 16.3406 - val_acc: 0.5332\n",
            "Epoch 173/500\n",
            "60/60 [==============================] - 4s 67ms/step - loss: 0.3320 - acc: 0.8029 - val_loss: 11.9796 - val_acc: 0.1254\n",
            "Epoch 174/500\n",
            "60/60 [==============================] - 4s 67ms/step - loss: 0.2239 - acc: 0.8185 - val_loss: 16.4826 - val_acc: 0.4995\n",
            "Epoch 175/500\n",
            "60/60 [==============================] - 4s 67ms/step - loss: 0.1556 - acc: 0.8746 - val_loss: 16.4364 - val_acc: 0.5100\n",
            "Epoch 176/500\n",
            "60/60 [==============================] - 4s 67ms/step - loss: 0.1440 - acc: 0.8798 - val_loss: 16.3648 - val_acc: 0.5269\n",
            "Epoch 177/500\n",
            "60/60 [==============================] - 4s 67ms/step - loss: 0.1419 - acc: 0.8822 - val_loss: 14.0016 - val_acc: 0.4932\n",
            "Epoch 178/500\n",
            "60/60 [==============================] - 4s 67ms/step - loss: 0.1532 - acc: 0.8733 - val_loss: 16.4492 - val_acc: 0.5079\n",
            "Epoch 179/500\n",
            "60/60 [==============================] - 4s 68ms/step - loss: 0.1360 - acc: 0.8873 - val_loss: 16.3600 - val_acc: 0.5279\n",
            "Epoch 180/500\n",
            "60/60 [==============================] - 4s 67ms/step - loss: 0.1256 - acc: 0.8877 - val_loss: 16.3837 - val_acc: 0.5227\n",
            "Epoch 181/500\n",
            "60/60 [==============================] - 4s 68ms/step - loss: 0.1242 - acc: 0.8930 - val_loss: 16.3897 - val_acc: 0.5205\n",
            "Epoch 182/500\n",
            "60/60 [==============================] - 4s 68ms/step - loss: 0.1340 - acc: 0.8914 - val_loss: 16.4294 - val_acc: 0.5121\n",
            "Epoch 183/500\n",
            "60/60 [==============================] - 4s 68ms/step - loss: 0.1244 - acc: 0.8910 - val_loss: 16.3888 - val_acc: 0.5216\n",
            "Epoch 184/500\n",
            "60/60 [==============================] - 4s 67ms/step - loss: 0.1198 - acc: 0.8949 - val_loss: 16.4162 - val_acc: 0.5142\n",
            "Epoch 185/500\n",
            "60/60 [==============================] - 4s 67ms/step - loss: 0.1306 - acc: 0.8817 - val_loss: 16.3903 - val_acc: 0.5216\n",
            "Epoch 186/500\n",
            "60/60 [==============================] - 4s 67ms/step - loss: 0.1301 - acc: 0.8923 - val_loss: 16.3842 - val_acc: 0.5227\n",
            "Epoch 187/500\n",
            "60/60 [==============================] - 4s 66ms/step - loss: 0.1211 - acc: 0.8923 - val_loss: 16.3656 - val_acc: 0.5269\n",
            "Epoch 188/500\n",
            "60/60 [==============================] - 4s 67ms/step - loss: 0.1172 - acc: 0.8971 - val_loss: 16.3819 - val_acc: 0.5237\n",
            "Epoch 189/500\n",
            "60/60 [==============================] - 4s 66ms/step - loss: 0.1243 - acc: 0.8941 - val_loss: 16.3689 - val_acc: 0.5269\n",
            "Epoch 190/500\n",
            "60/60 [==============================] - 4s 68ms/step - loss: 0.1244 - acc: 0.8924 - val_loss: 16.3908 - val_acc: 0.5216\n",
            "Epoch 191/500\n",
            "60/60 [==============================] - 4s 67ms/step - loss: 0.4853 - acc: 0.8225 - val_loss: 16.5335 - val_acc: 0.4858\n",
            "Epoch 192/500\n",
            "60/60 [==============================] - 4s 67ms/step - loss: 0.1585 - acc: 0.8534 - val_loss: 16.4001 - val_acc: 0.5195\n",
            "Epoch 193/500\n",
            "60/60 [==============================] - 4s 67ms/step - loss: 0.1342 - acc: 0.8812 - val_loss: 16.4062 - val_acc: 0.5174\n",
            "Epoch 194/500\n",
            "60/60 [==============================] - 4s 67ms/step - loss: 0.1252 - acc: 0.8910 - val_loss: 16.3824 - val_acc: 0.5237\n",
            "Epoch 195/500\n",
            "60/60 [==============================] - 4s 66ms/step - loss: 0.1196 - acc: 0.8938 - val_loss: 16.4341 - val_acc: 0.5111\n",
            "Epoch 196/500\n",
            "60/60 [==============================] - 4s 67ms/step - loss: 0.1128 - acc: 0.8996 - val_loss: 16.2786 - val_acc: 0.5469\n",
            "Epoch 197/500\n",
            "60/60 [==============================] - 4s 67ms/step - loss: 0.1304 - acc: 0.8845 - val_loss: 16.4594 - val_acc: 0.5047\n",
            "Epoch 198/500\n",
            "60/60 [==============================] - 4s 67ms/step - loss: 0.1212 - acc: 0.8885 - val_loss: 16.4174 - val_acc: 0.5142\n",
            "Epoch 199/500\n",
            "60/60 [==============================] - 4s 67ms/step - loss: 0.1163 - acc: 0.8949 - val_loss: 16.3230 - val_acc: 0.5374\n",
            "Epoch 200/500\n",
            "60/60 [==============================] - 4s 67ms/step - loss: 0.1128 - acc: 0.8985 - val_loss: 16.2930 - val_acc: 0.5448\n",
            "Epoch 201/500\n",
            "60/60 [==============================] - 4s 66ms/step - loss: 0.1250 - acc: 0.8977 - val_loss: 16.3942 - val_acc: 0.5205\n",
            "Epoch 202/500\n",
            "60/60 [==============================] - 4s 66ms/step - loss: 0.1235 - acc: 0.8884 - val_loss: 16.4042 - val_acc: 0.5184\n",
            "Epoch 203/500\n",
            "60/60 [==============================] - 4s 66ms/step - loss: 0.1198 - acc: 0.8921 - val_loss: 16.3958 - val_acc: 0.5195\n",
            "Epoch 204/500\n",
            "60/60 [==============================] - 4s 67ms/step - loss: 0.1186 - acc: 0.8963 - val_loss: 16.4091 - val_acc: 0.5174\n",
            "Epoch 205/500\n",
            "60/60 [==============================] - 4s 66ms/step - loss: 0.1094 - acc: 0.9013 - val_loss: 16.3332 - val_acc: 0.5353\n",
            "Epoch 206/500\n",
            "60/60 [==============================] - 4s 67ms/step - loss: 0.1148 - acc: 0.8907 - val_loss: 16.3957 - val_acc: 0.5205\n",
            "Epoch 207/500\n",
            "60/60 [==============================] - 4s 67ms/step - loss: 0.1290 - acc: 0.8885 - val_loss: 16.3421 - val_acc: 0.5332\n",
            "Epoch 208/500\n",
            "60/60 [==============================] - 4s 67ms/step - loss: 1.7880 - acc: 0.6724 - val_loss: 12.1826 - val_acc: 0.0790\n",
            "Epoch 209/500\n",
            "60/60 [==============================] - 4s 66ms/step - loss: 0.2696 - acc: 0.7815 - val_loss: 12.1238 - val_acc: 0.1359\n",
            "Epoch 210/500\n",
            "60/60 [==============================] - 4s 67ms/step - loss: 0.2388 - acc: 0.8034 - val_loss: 12.9410 - val_acc: 0.1138\n",
            "Epoch 211/500\n",
            "60/60 [==============================] - 4s 68ms/step - loss: 0.1913 - acc: 0.8337 - val_loss: 12.1459 - val_acc: 0.2044\n",
            "Epoch 212/500\n",
            "60/60 [==============================] - 4s 68ms/step - loss: 0.1663 - acc: 0.8488 - val_loss: 11.4969 - val_acc: 0.2845\n",
            "Epoch 213/500\n",
            "60/60 [==============================] - 4s 66ms/step - loss: 0.1668 - acc: 0.8564 - val_loss: 11.2944 - val_acc: 0.3235\n",
            "Epoch 214/500\n",
            "60/60 [==============================] - 4s 67ms/step - loss: 0.1597 - acc: 0.8646 - val_loss: 11.0445 - val_acc: 0.3772\n",
            "Epoch 215/500\n",
            "60/60 [==============================] - 4s 67ms/step - loss: 0.1564 - acc: 0.8628 - val_loss: 11.4507 - val_acc: 0.4110\n",
            "Epoch 216/500\n",
            "60/60 [==============================] - 4s 67ms/step - loss: 0.1614 - acc: 0.8648 - val_loss: 11.4491 - val_acc: 0.4341\n",
            "Epoch 217/500\n",
            "60/60 [==============================] - 4s 67ms/step - loss: 0.1441 - acc: 0.8740 - val_loss: 11.6197 - val_acc: 0.4636\n",
            "Epoch 218/500\n",
            "60/60 [==============================] - 4s 67ms/step - loss: 0.1454 - acc: 0.8729 - val_loss: 12.4759 - val_acc: 0.4457\n",
            "Epoch 219/500\n",
            "60/60 [==============================] - 4s 67ms/step - loss: 0.1413 - acc: 0.8780 - val_loss: 12.3162 - val_acc: 0.4605\n",
            "Epoch 220/500\n",
            "60/60 [==============================] - 4s 68ms/step - loss: 0.1432 - acc: 0.8791 - val_loss: 11.6743 - val_acc: 0.4447\n",
            "Epoch 221/500\n",
            "60/60 [==============================] - 4s 66ms/step - loss: 0.1402 - acc: 0.8802 - val_loss: 12.3082 - val_acc: 0.4236\n",
            "Epoch 222/500\n",
            "60/60 [==============================] - 4s 67ms/step - loss: 0.1636 - acc: 0.8693 - val_loss: 12.5360 - val_acc: 0.4689\n",
            "Epoch 223/500\n",
            "60/60 [==============================] - 4s 67ms/step - loss: 0.1367 - acc: 0.8796 - val_loss: 13.3287 - val_acc: 0.4742\n",
            "Epoch 224/500\n",
            "60/60 [==============================] - 4s 67ms/step - loss: 0.1285 - acc: 0.8831 - val_loss: 13.3586 - val_acc: 0.4615\n",
            "Epoch 225/500\n",
            "60/60 [==============================] - 4s 67ms/step - loss: 0.1291 - acc: 0.8808 - val_loss: 13.3408 - val_acc: 0.4647\n",
            "Epoch 226/500\n",
            "60/60 [==============================] - 4s 66ms/step - loss: 0.1284 - acc: 0.8887 - val_loss: 13.3767 - val_acc: 0.4668\n",
            "Epoch 227/500\n",
            "60/60 [==============================] - 4s 68ms/step - loss: 0.1494 - acc: 0.8714 - val_loss: 13.8940 - val_acc: 0.4658\n",
            "Epoch 228/500\n",
            "60/60 [==============================] - 4s 66ms/step - loss: 0.1206 - acc: 0.8884 - val_loss: 13.8137 - val_acc: 0.4805\n",
            "Epoch 229/500\n",
            "60/60 [==============================] - 4s 67ms/step - loss: 0.1270 - acc: 0.8862 - val_loss: 13.5784 - val_acc: 0.4816\n",
            "Epoch 230/500\n",
            "60/60 [==============================] - 4s 67ms/step - loss: 0.1159 - acc: 0.8938 - val_loss: 13.5940 - val_acc: 0.4752\n",
            "Epoch 231/500\n",
            "60/60 [==============================] - 4s 68ms/step - loss: 0.1503 - acc: 0.8768 - val_loss: 13.5909 - val_acc: 0.4837\n",
            "Epoch 232/500\n",
            "60/60 [==============================] - 4s 67ms/step - loss: 0.1263 - acc: 0.8937 - val_loss: 13.8725 - val_acc: 0.4710\n",
            "Epoch 233/500\n",
            "60/60 [==============================] - 4s 67ms/step - loss: 0.1291 - acc: 0.8865 - val_loss: 13.5454 - val_acc: 0.4763\n",
            "Epoch 234/500\n",
            "60/60 [==============================] - 4s 67ms/step - loss: 0.1305 - acc: 0.8878 - val_loss: 13.8043 - val_acc: 0.4658\n",
            "Epoch 235/500\n",
            "60/60 [==============================] - 4s 67ms/step - loss: 0.2609 - acc: 0.8712 - val_loss: 13.0932 - val_acc: 0.4331\n",
            "Epoch 236/500\n",
            "60/60 [==============================] - 4s 66ms/step - loss: 0.1697 - acc: 0.8618 - val_loss: 13.9318 - val_acc: 0.4636\n",
            "Epoch 237/500\n",
            "60/60 [==============================] - 4s 67ms/step - loss: 0.1291 - acc: 0.8850 - val_loss: 13.9713 - val_acc: 0.4668\n",
            "Epoch 238/500\n",
            "60/60 [==============================] - 4s 67ms/step - loss: 0.1285 - acc: 0.8863 - val_loss: 13.9285 - val_acc: 0.4795\n",
            "Epoch 239/500\n",
            "60/60 [==============================] - 4s 67ms/step - loss: 0.1260 - acc: 0.8837 - val_loss: 13.8754 - val_acc: 0.4763\n",
            "Epoch 240/500\n",
            "60/60 [==============================] - 4s 67ms/step - loss: 0.1279 - acc: 0.8857 - val_loss: 13.8438 - val_acc: 0.4837\n",
            "Epoch 241/500\n",
            "60/60 [==============================] - 4s 67ms/step - loss: 0.1367 - acc: 0.8886 - val_loss: 13.8625 - val_acc: 0.4900\n",
            "Epoch 242/500\n",
            "60/60 [==============================] - 4s 67ms/step - loss: 0.1342 - acc: 0.8822 - val_loss: 13.9258 - val_acc: 0.4636\n",
            "Epoch 243/500\n",
            "60/60 [==============================] - 4s 68ms/step - loss: 0.1287 - acc: 0.8828 - val_loss: 13.8427 - val_acc: 0.4847\n",
            "Epoch 244/500\n",
            "60/60 [==============================] - 4s 67ms/step - loss: 0.1367 - acc: 0.8862 - val_loss: 13.8880 - val_acc: 0.4879\n",
            "Epoch 245/500\n",
            "60/60 [==============================] - 4s 68ms/step - loss: 0.1218 - acc: 0.8881 - val_loss: 13.9196 - val_acc: 0.4953\n",
            "Epoch 246/500\n",
            "60/60 [==============================] - 4s 66ms/step - loss: 0.1222 - acc: 0.8895 - val_loss: 13.9128 - val_acc: 0.4984\n",
            "Epoch 247/500\n",
            "60/60 [==============================] - 4s 67ms/step - loss: 0.1224 - acc: 0.8903 - val_loss: 13.8300 - val_acc: 0.4868\n",
            "Epoch 248/500\n",
            "60/60 [==============================] - 4s 68ms/step - loss: 0.1222 - acc: 0.8921 - val_loss: 13.9074 - val_acc: 0.4974\n",
            "Epoch 249/500\n",
            "60/60 [==============================] - 4s 68ms/step - loss: 0.5609 - acc: 0.7611 - val_loss: 12.1700 - val_acc: 0.3425\n",
            "Epoch 250/500\n",
            "60/60 [==============================] - 4s 67ms/step - loss: 0.1952 - acc: 0.8452 - val_loss: 11.9706 - val_acc: 0.3614\n",
            "Epoch 251/500\n",
            "60/60 [==============================] - 4s 68ms/step - loss: 0.1840 - acc: 0.8600 - val_loss: 12.5689 - val_acc: 0.3614\n",
            "Epoch 252/500\n",
            "60/60 [==============================] - 4s 67ms/step - loss: 0.1382 - acc: 0.8856 - val_loss: 12.4610 - val_acc: 0.3857\n",
            "Epoch 253/500\n",
            "60/60 [==============================] - 4s 68ms/step - loss: 0.1464 - acc: 0.8779 - val_loss: 12.7321 - val_acc: 0.4194\n",
            "Epoch 254/500\n",
            "60/60 [==============================] - 4s 67ms/step - loss: 0.1370 - acc: 0.8769 - val_loss: 12.5987 - val_acc: 0.4542\n",
            "Epoch 255/500\n",
            "60/60 [==============================] - 4s 69ms/step - loss: 0.1251 - acc: 0.8833 - val_loss: 12.7425 - val_acc: 0.4510\n",
            "Epoch 256/500\n",
            "60/60 [==============================] - 4s 67ms/step - loss: 0.1259 - acc: 0.8877 - val_loss: 12.7245 - val_acc: 0.4542\n",
            "Epoch 257/500\n",
            "60/60 [==============================] - 4s 68ms/step - loss: 0.1246 - acc: 0.8895 - val_loss: 12.6547 - val_acc: 0.4573\n",
            "Epoch 258/500\n",
            "60/60 [==============================] - 4s 68ms/step - loss: 0.1187 - acc: 0.8898 - val_loss: 12.7084 - val_acc: 0.4584\n",
            "Epoch 259/500\n",
            "60/60 [==============================] - 4s 69ms/step - loss: 0.1125 - acc: 0.8943 - val_loss: 12.6988 - val_acc: 0.4605\n",
            "Epoch 260/500\n",
            "60/60 [==============================] - 4s 69ms/step - loss: 0.1182 - acc: 0.8951 - val_loss: 12.6748 - val_acc: 0.4647\n",
            "Epoch 261/500\n",
            "60/60 [==============================] - 4s 68ms/step - loss: 0.1182 - acc: 0.8917 - val_loss: 12.5760 - val_acc: 0.4910\n",
            "Epoch 262/500\n",
            "60/60 [==============================] - 4s 66ms/step - loss: 0.1146 - acc: 0.8952 - val_loss: 12.5748 - val_acc: 0.4910\n",
            "Epoch 263/500\n",
            "60/60 [==============================] - 4s 67ms/step - loss: 0.1190 - acc: 0.8951 - val_loss: 12.5340 - val_acc: 0.5005\n",
            "Epoch 264/500\n",
            "60/60 [==============================] - 4s 68ms/step - loss: 0.1061 - acc: 0.8997 - val_loss: 12.5057 - val_acc: 0.5068\n",
            "Epoch 265/500\n",
            "60/60 [==============================] - 4s 67ms/step - loss: 0.1121 - acc: 0.8989 - val_loss: 12.4556 - val_acc: 0.5195\n",
            "Epoch 266/500\n",
            "60/60 [==============================] - 4s 67ms/step - loss: 0.1110 - acc: 0.8975 - val_loss: 12.5017 - val_acc: 0.5079\n",
            "Epoch 267/500\n",
            "60/60 [==============================] - 4s 67ms/step - loss: 0.1064 - acc: 0.9007 - val_loss: 12.4879 - val_acc: 0.5111\n",
            "Epoch 268/500\n",
            "60/60 [==============================] - 4s 67ms/step - loss: 0.1179 - acc: 0.9004 - val_loss: 12.5270 - val_acc: 0.5026\n",
            "Epoch 269/500\n",
            "60/60 [==============================] - 4s 67ms/step - loss: 0.1167 - acc: 0.8964 - val_loss: 13.1242 - val_acc: 0.5300\n",
            "Epoch 270/500\n",
            "60/60 [==============================] - 4s 68ms/step - loss: 0.1034 - acc: 0.8991 - val_loss: 12.7625 - val_acc: 0.5300\n",
            "Epoch 271/500\n",
            "60/60 [==============================] - 4s 68ms/step - loss: 0.1121 - acc: 0.9003 - val_loss: 12.5324 - val_acc: 0.5016\n",
            "Epoch 272/500\n",
            "60/60 [==============================] - 4s 68ms/step - loss: 0.1051 - acc: 0.9035 - val_loss: 12.5201 - val_acc: 0.5037\n",
            "Epoch 273/500\n",
            "60/60 [==============================] - 4s 67ms/step - loss: 0.1179 - acc: 0.8968 - val_loss: 12.9372 - val_acc: 0.5753\n",
            "Epoch 274/500\n",
            "60/60 [==============================] - 4s 67ms/step - loss: 0.0973 - acc: 0.9032 - val_loss: 13.4053 - val_acc: 0.5490\n",
            "Epoch 275/500\n",
            "60/60 [==============================] - 4s 67ms/step - loss: 0.1004 - acc: 0.9046 - val_loss: 13.4938 - val_acc: 0.5279\n",
            "Epoch 276/500\n",
            "60/60 [==============================] - 4s 68ms/step - loss: 0.1025 - acc: 0.9032 - val_loss: 12.8020 - val_acc: 0.5227\n",
            "Epoch 277/500\n",
            "60/60 [==============================] - 4s 68ms/step - loss: 0.1057 - acc: 0.9000 - val_loss: 13.8030 - val_acc: 0.5385\n",
            "Epoch 278/500\n",
            "60/60 [==============================] - 4s 68ms/step - loss: 0.1046 - acc: 0.9023 - val_loss: 13.7840 - val_acc: 0.5437\n",
            "Epoch 279/500\n",
            "60/60 [==============================] - 4s 67ms/step - loss: 0.2197 - acc: 0.8765 - val_loss: 13.3877 - val_acc: 0.4710\n",
            "Epoch 280/500\n",
            "60/60 [==============================] - 4s 67ms/step - loss: 0.1126 - acc: 0.8915 - val_loss: 13.7928 - val_acc: 0.5406\n",
            "Epoch 281/500\n",
            "60/60 [==============================] - 4s 68ms/step - loss: 0.0979 - acc: 0.9076 - val_loss: 13.7569 - val_acc: 0.5511\n",
            "Epoch 282/500\n",
            "60/60 [==============================] - 4s 67ms/step - loss: 0.1048 - acc: 0.9018 - val_loss: 13.7688 - val_acc: 0.5479\n",
            "Epoch 283/500\n",
            "60/60 [==============================] - 4s 68ms/step - loss: 0.1196 - acc: 0.8949 - val_loss: 12.2699 - val_acc: 0.5627\n",
            "Epoch 284/500\n",
            "60/60 [==============================] - 4s 67ms/step - loss: 0.1092 - acc: 0.8945 - val_loss: 13.4312 - val_acc: 0.5416\n",
            "Epoch 285/500\n",
            "60/60 [==============================] - 4s 67ms/step - loss: 0.0990 - acc: 0.9052 - val_loss: 13.0726 - val_acc: 0.5300\n",
            "Epoch 286/500\n",
            "60/60 [==============================] - 4s 68ms/step - loss: 0.1151 - acc: 0.8919 - val_loss: 13.7085 - val_acc: 0.5616\n",
            "Epoch 287/500\n",
            "60/60 [==============================] - 4s 67ms/step - loss: 0.2371 - acc: 0.8738 - val_loss: 13.1402 - val_acc: 0.5258\n",
            "Epoch 288/500\n",
            "60/60 [==============================] - 4s 67ms/step - loss: 0.1102 - acc: 0.8979 - val_loss: 13.7394 - val_acc: 0.5543\n",
            "Epoch 289/500\n",
            "60/60 [==============================] - 4s 67ms/step - loss: 0.1082 - acc: 0.9010 - val_loss: 12.3584 - val_acc: 0.5416\n",
            "Epoch 290/500\n",
            "60/60 [==============================] - 4s 67ms/step - loss: 0.1004 - acc: 0.8991 - val_loss: 12.7657 - val_acc: 0.5511\n",
            "Epoch 291/500\n",
            "60/60 [==============================] - 4s 68ms/step - loss: 0.0935 - acc: 0.9069 - val_loss: 12.7578 - val_acc: 0.5311\n",
            "Epoch 292/500\n",
            "60/60 [==============================] - 4s 68ms/step - loss: 0.0950 - acc: 0.9046 - val_loss: 13.0498 - val_acc: 0.5458\n",
            "Epoch 293/500\n",
            "60/60 [==============================] - 4s 67ms/step - loss: 0.0968 - acc: 0.9064 - val_loss: 13.0866 - val_acc: 0.5395\n",
            "Epoch 294/500\n",
            "60/60 [==============================] - 4s 69ms/step - loss: 0.0915 - acc: 0.9083 - val_loss: 13.6899 - val_acc: 0.5669\n",
            "Epoch 295/500\n",
            "60/60 [==============================] - 4s 68ms/step - loss: 0.1038 - acc: 0.9054 - val_loss: 13.7293 - val_acc: 0.5574\n",
            "Epoch 296/500\n",
            "60/60 [==============================] - 4s 66ms/step - loss: 0.1065 - acc: 0.8998 - val_loss: 13.6751 - val_acc: 0.5701\n",
            "Epoch 297/500\n",
            "60/60 [==============================] - 4s 68ms/step - loss: 0.0927 - acc: 0.9088 - val_loss: 13.4269 - val_acc: 0.5437\n",
            "Epoch 298/500\n",
            "60/60 [==============================] - 4s 67ms/step - loss: 0.0972 - acc: 0.9033 - val_loss: 13.7211 - val_acc: 0.5595\n",
            "Epoch 299/500\n",
            "60/60 [==============================] - 4s 67ms/step - loss: 0.0999 - acc: 0.9032 - val_loss: 13.7747 - val_acc: 0.5469\n",
            "Epoch 300/500\n",
            "60/60 [==============================] - 4s 67ms/step - loss: 0.1250 - acc: 0.8984 - val_loss: 12.3571 - val_acc: 0.5406\n",
            "Epoch 301/500\n",
            "60/60 [==============================] - 4s 67ms/step - loss: 0.2384 - acc: 0.8640 - val_loss: 13.8022 - val_acc: 0.5184\n",
            "Epoch 302/500\n",
            "60/60 [==============================] - 4s 67ms/step - loss: 0.1101 - acc: 0.8924 - val_loss: 13.4661 - val_acc: 0.5342\n",
            "Epoch 303/500\n",
            "60/60 [==============================] - 4s 67ms/step - loss: 0.0987 - acc: 0.9038 - val_loss: 13.5001 - val_acc: 0.5269\n",
            "Epoch 304/500\n",
            "60/60 [==============================] - 4s 67ms/step - loss: 0.0956 - acc: 0.9055 - val_loss: 13.8159 - val_acc: 0.5364\n",
            "Epoch 305/500\n",
            "60/60 [==============================] - 4s 67ms/step - loss: 0.1061 - acc: 0.9022 - val_loss: 13.7702 - val_acc: 0.5479\n",
            "Epoch 306/500\n",
            "60/60 [==============================] - 4s 67ms/step - loss: 0.0974 - acc: 0.9055 - val_loss: 13.1449 - val_acc: 0.5248\n",
            "Epoch 307/500\n",
            "60/60 [==============================] - 4s 67ms/step - loss: 0.0991 - acc: 0.8980 - val_loss: 13.4188 - val_acc: 0.5448\n",
            "Epoch 308/500\n",
            "60/60 [==============================] - 4s 67ms/step - loss: 0.0924 - acc: 0.9081 - val_loss: 13.6948 - val_acc: 0.5638\n",
            "Epoch 309/500\n",
            "60/60 [==============================] - 4s 68ms/step - loss: 0.0935 - acc: 0.9070 - val_loss: 13.7818 - val_acc: 0.5448\n",
            "Epoch 310/500\n",
            "60/60 [==============================] - 4s 68ms/step - loss: 0.0881 - acc: 0.9070 - val_loss: 13.8234 - val_acc: 0.5353\n",
            "Epoch 311/500\n",
            "60/60 [==============================] - 4s 68ms/step - loss: 0.0983 - acc: 0.9053 - val_loss: 13.7303 - val_acc: 0.5574\n",
            "Epoch 312/500\n",
            "60/60 [==============================] - 4s 67ms/step - loss: 0.0938 - acc: 0.9038 - val_loss: 13.7645 - val_acc: 0.5479\n",
            "Epoch 313/500\n",
            "60/60 [==============================] - 4s 67ms/step - loss: 0.1326 - acc: 0.8942 - val_loss: 13.6849 - val_acc: 0.5669\n",
            "Epoch 314/500\n",
            "60/60 [==============================] - 4s 67ms/step - loss: 0.1001 - acc: 0.9009 - val_loss: 13.8102 - val_acc: 0.5374\n",
            "Epoch 315/500\n",
            "60/60 [==============================] - 4s 67ms/step - loss: 0.0908 - acc: 0.9066 - val_loss: 13.7943 - val_acc: 0.5416\n",
            "Epoch 316/500\n",
            "60/60 [==============================] - 4s 67ms/step - loss: 0.0989 - acc: 0.9007 - val_loss: 13.7702 - val_acc: 0.5479\n",
            "Epoch 317/500\n",
            "60/60 [==============================] - 4s 68ms/step - loss: 0.0938 - acc: 0.9060 - val_loss: 13.1110 - val_acc: 0.5342\n",
            "Epoch 318/500\n",
            "60/60 [==============================] - 4s 67ms/step - loss: 0.0887 - acc: 0.9048 - val_loss: 13.7309 - val_acc: 0.5553\n",
            "Epoch 319/500\n",
            "60/60 [==============================] - 4s 68ms/step - loss: 1.1403 - acc: 0.6295 - val_loss: 12.6866 - val_acc: 0.3414\n",
            "Epoch 320/500\n",
            "60/60 [==============================] - 4s 67ms/step - loss: 0.2924 - acc: 0.7737 - val_loss: 13.0051 - val_acc: 0.2824\n",
            "Epoch 321/500\n",
            "60/60 [==============================] - 4s 67ms/step - loss: 0.4103 - acc: 0.7567 - val_loss: 12.5620 - val_acc: 0.2213\n",
            "Epoch 322/500\n",
            "60/60 [==============================] - 4s 67ms/step - loss: 0.1806 - acc: 0.8416 - val_loss: 12.8286 - val_acc: 0.2561\n",
            "Epoch 323/500\n",
            "60/60 [==============================] - 4s 67ms/step - loss: 0.1425 - acc: 0.8747 - val_loss: 12.9200 - val_acc: 0.3224\n",
            "Epoch 324/500\n",
            "60/60 [==============================] - 4s 67ms/step - loss: 0.1353 - acc: 0.8790 - val_loss: 12.5330 - val_acc: 0.4152\n",
            "Epoch 325/500\n",
            "60/60 [==============================] - 4s 66ms/step - loss: 0.1345 - acc: 0.8835 - val_loss: 12.4195 - val_acc: 0.4426\n",
            "Epoch 326/500\n",
            "60/60 [==============================] - 4s 67ms/step - loss: 0.1125 - acc: 0.8952 - val_loss: 12.2596 - val_acc: 0.4795\n",
            "Epoch 327/500\n",
            "60/60 [==============================] - 4s 66ms/step - loss: 0.1116 - acc: 0.8973 - val_loss: 12.3494 - val_acc: 0.4584\n",
            "Epoch 328/500\n",
            "60/60 [==============================] - 4s 67ms/step - loss: 0.0963 - acc: 0.9023 - val_loss: 12.3340 - val_acc: 0.4626\n",
            "Epoch 329/500\n",
            "60/60 [==============================] - 4s 68ms/step - loss: 0.1053 - acc: 0.8956 - val_loss: 12.2440 - val_acc: 0.4805\n",
            "Epoch 330/500\n",
            "60/60 [==============================] - 4s 68ms/step - loss: 0.1063 - acc: 0.8991 - val_loss: 12.5857 - val_acc: 0.4879\n",
            "Epoch 331/500\n",
            "60/60 [==============================] - 4s 68ms/step - loss: 0.1810 - acc: 0.8789 - val_loss: 12.7128 - val_acc: 0.3730\n",
            "Epoch 332/500\n",
            "60/60 [==============================] - 4s 68ms/step - loss: 0.1110 - acc: 0.8895 - val_loss: 12.3449 - val_acc: 0.4594\n",
            "Epoch 333/500\n",
            "60/60 [==============================] - 4s 67ms/step - loss: 0.1083 - acc: 0.8975 - val_loss: 12.5826 - val_acc: 0.4015\n",
            "Epoch 334/500\n",
            "60/60 [==============================] - 4s 67ms/step - loss: 0.0974 - acc: 0.9067 - val_loss: 12.2239 - val_acc: 0.4889\n",
            "Epoch 335/500\n",
            "60/60 [==============================] - 4s 69ms/step - loss: 0.0896 - acc: 0.9096 - val_loss: 12.3114 - val_acc: 0.4668\n",
            "Epoch 336/500\n",
            "60/60 [==============================] - 4s 69ms/step - loss: 0.1046 - acc: 0.8984 - val_loss: 12.2048 - val_acc: 0.4921\n",
            "Epoch 337/500\n",
            "60/60 [==============================] - 4s 69ms/step - loss: 0.0962 - acc: 0.9013 - val_loss: 12.5995 - val_acc: 0.4847\n",
            "Epoch 338/500\n",
            "60/60 [==============================] - 4s 66ms/step - loss: 0.0938 - acc: 0.9022 - val_loss: 12.5467 - val_acc: 0.4974\n",
            "Epoch 339/500\n",
            "60/60 [==============================] - 4s 67ms/step - loss: 0.0983 - acc: 0.9032 - val_loss: 12.2136 - val_acc: 0.4900\n",
            "Epoch 340/500\n",
            "60/60 [==============================] - 4s 67ms/step - loss: 0.0940 - acc: 0.9039 - val_loss: 12.2591 - val_acc: 0.4795\n",
            "Epoch 341/500\n",
            "60/60 [==============================] - 4s 67ms/step - loss: 0.0926 - acc: 0.9062 - val_loss: 12.1832 - val_acc: 0.4995\n",
            "Epoch 342/500\n",
            "60/60 [==============================] - 4s 67ms/step - loss: 0.0928 - acc: 0.9059 - val_loss: 12.5328 - val_acc: 0.5016\n",
            "Epoch 343/500\n",
            "60/60 [==============================] - 4s 68ms/step - loss: 0.0970 - acc: 0.9016 - val_loss: 12.1780 - val_acc: 0.4984\n",
            "Epoch 344/500\n",
            "60/60 [==============================] - 4s 66ms/step - loss: 0.1054 - acc: 0.8987 - val_loss: 12.4865 - val_acc: 0.5121\n",
            "Epoch 345/500\n",
            "60/60 [==============================] - 4s 67ms/step - loss: 0.0944 - acc: 0.9068 - val_loss: 12.5306 - val_acc: 0.5016\n",
            "Epoch 346/500\n",
            "60/60 [==============================] - 4s 67ms/step - loss: 0.0901 - acc: 0.9074 - val_loss: 12.2114 - val_acc: 0.4921\n",
            "Epoch 347/500\n",
            "60/60 [==============================] - 4s 68ms/step - loss: 0.0915 - acc: 0.9066 - val_loss: 12.4685 - val_acc: 0.5153\n",
            "Epoch 348/500\n",
            "60/60 [==============================] - 4s 67ms/step - loss: 0.0914 - acc: 0.9034 - val_loss: 12.3835 - val_acc: 0.5353\n",
            "Epoch 349/500\n",
            "60/60 [==============================] - 4s 67ms/step - loss: 0.0859 - acc: 0.9076 - val_loss: 12.4675 - val_acc: 0.5163\n",
            "Epoch 350/500\n",
            "60/60 [==============================] - 4s 68ms/step - loss: 0.0933 - acc: 0.9090 - val_loss: 12.4943 - val_acc: 0.5100\n",
            "Epoch 351/500\n",
            "60/60 [==============================] - 4s 68ms/step - loss: 0.0883 - acc: 0.9043 - val_loss: 12.4293 - val_acc: 0.5258\n",
            "Epoch 352/500\n",
            "60/60 [==============================] - 4s 69ms/step - loss: 0.0900 - acc: 0.9082 - val_loss: 12.4901 - val_acc: 0.5100\n",
            "Epoch 353/500\n",
            "60/60 [==============================] - 4s 65ms/step - loss: 0.0860 - acc: 0.9100 - val_loss: 12.4973 - val_acc: 0.5090\n",
            "Epoch 354/500\n",
            "60/60 [==============================] - 4s 67ms/step - loss: 0.0864 - acc: 0.9093 - val_loss: 12.5640 - val_acc: 0.4942\n",
            "Epoch 355/500\n",
            "60/60 [==============================] - 4s 67ms/step - loss: 0.0940 - acc: 0.9038 - val_loss: 12.3947 - val_acc: 0.5332\n",
            "Epoch 356/500\n",
            "60/60 [==============================] - 4s 67ms/step - loss: 0.0877 - acc: 0.9083 - val_loss: 12.1705 - val_acc: 0.5005\n",
            "Epoch 357/500\n",
            "60/60 [==============================] - 4s 67ms/step - loss: 0.0952 - acc: 0.9019 - val_loss: 12.3901 - val_acc: 0.5332\n",
            "Epoch 358/500\n",
            "60/60 [==============================] - 4s 67ms/step - loss: 0.0861 - acc: 0.9115 - val_loss: 12.4078 - val_acc: 0.5311\n",
            "Epoch 359/500\n",
            "60/60 [==============================] - 4s 67ms/step - loss: 0.0859 - acc: 0.9055 - val_loss: 12.4874 - val_acc: 0.5121\n",
            "Epoch 360/500\n",
            "60/60 [==============================] - 4s 67ms/step - loss: 0.0871 - acc: 0.9033 - val_loss: 12.4364 - val_acc: 0.5227\n",
            "Epoch 361/500\n",
            "60/60 [==============================] - 4s 67ms/step - loss: 0.0835 - acc: 0.9115 - val_loss: 12.4591 - val_acc: 0.5174\n",
            "Epoch 362/500\n",
            "60/60 [==============================] - 4s 67ms/step - loss: 0.0839 - acc: 0.9080 - val_loss: 12.4453 - val_acc: 0.5205\n",
            "Epoch 363/500\n",
            "60/60 [==============================] - 4s 67ms/step - loss: 0.0815 - acc: 0.9126 - val_loss: 12.5886 - val_acc: 0.4879\n",
            "Epoch 364/500\n",
            "60/60 [==============================] - 4s 66ms/step - loss: 0.0903 - acc: 0.9060 - val_loss: 12.4729 - val_acc: 0.5153\n",
            "Epoch 365/500\n",
            "60/60 [==============================] - 4s 67ms/step - loss: 0.0860 - acc: 0.9113 - val_loss: 12.4407 - val_acc: 0.5227\n",
            "Epoch 366/500\n",
            "60/60 [==============================] - 4s 66ms/step - loss: 0.0914 - acc: 0.9070 - val_loss: 12.4056 - val_acc: 0.5311\n",
            "Epoch 367/500\n",
            "60/60 [==============================] - 4s 67ms/step - loss: 0.0887 - acc: 0.9022 - val_loss: 12.4837 - val_acc: 0.5132\n",
            "Epoch 368/500\n",
            "60/60 [==============================] - 4s 67ms/step - loss: 0.0867 - acc: 0.9082 - val_loss: 12.4000 - val_acc: 0.5321\n",
            "Epoch 369/500\n",
            "60/60 [==============================] - 4s 67ms/step - loss: 0.0820 - acc: 0.9126 - val_loss: 12.3962 - val_acc: 0.5332\n",
            "Epoch 370/500\n",
            "60/60 [==============================] - 4s 68ms/step - loss: 0.4319 - acc: 0.8298 - val_loss: 13.3582 - val_acc: 0.5585\n",
            "Epoch 371/500\n",
            "60/60 [==============================] - 4s 67ms/step - loss: 0.1082 - acc: 0.8934 - val_loss: 12.0368 - val_acc: 0.5311\n",
            "Epoch 372/500\n",
            "60/60 [==============================] - 4s 67ms/step - loss: 0.0969 - acc: 0.9009 - val_loss: 12.0495 - val_acc: 0.5300\n",
            "Epoch 373/500\n",
            "60/60 [==============================] - 4s 66ms/step - loss: 0.0892 - acc: 0.9019 - val_loss: 12.1029 - val_acc: 0.5163\n",
            "Epoch 374/500\n",
            "60/60 [==============================] - 4s 67ms/step - loss: 0.0909 - acc: 0.9043 - val_loss: 12.0716 - val_acc: 0.5258\n",
            "Epoch 375/500\n",
            "60/60 [==============================] - 4s 66ms/step - loss: 0.0864 - acc: 0.9094 - val_loss: 12.1646 - val_acc: 0.5026\n",
            "Epoch 376/500\n",
            "60/60 [==============================] - 4s 68ms/step - loss: 0.0927 - acc: 0.9028 - val_loss: 12.0984 - val_acc: 0.5195\n",
            "Epoch 377/500\n",
            "60/60 [==============================] - 4s 67ms/step - loss: 0.0830 - acc: 0.9099 - val_loss: 12.1029 - val_acc: 0.5184\n",
            "Epoch 378/500\n",
            "60/60 [==============================] - 4s 67ms/step - loss: 0.0883 - acc: 0.9048 - val_loss: 12.0715 - val_acc: 0.5258\n",
            "Epoch 379/500\n",
            "60/60 [==============================] - 4s 66ms/step - loss: 0.0805 - acc: 0.9134 - val_loss: 12.0294 - val_acc: 0.5342\n",
            "Epoch 380/500\n",
            "60/60 [==============================] - 4s 67ms/step - loss: 0.0844 - acc: 0.9113 - val_loss: 12.3921 - val_acc: 0.5342\n",
            "Epoch 381/500\n",
            "60/60 [==============================] - 4s 67ms/step - loss: 0.0774 - acc: 0.9140 - val_loss: 12.0745 - val_acc: 0.5248\n",
            "Epoch 382/500\n",
            "60/60 [==============================] - 4s 67ms/step - loss: 0.0819 - acc: 0.9099 - val_loss: 12.3634 - val_acc: 0.5406\n",
            "Epoch 383/500\n",
            "60/60 [==============================] - 4s 66ms/step - loss: 0.0778 - acc: 0.9146 - val_loss: 12.0761 - val_acc: 0.5248\n",
            "Epoch 384/500\n",
            "60/60 [==============================] - 4s 67ms/step - loss: 0.0852 - acc: 0.9076 - val_loss: 12.0687 - val_acc: 0.5258\n",
            "Epoch 385/500\n",
            "60/60 [==============================] - 4s 67ms/step - loss: 0.0809 - acc: 0.9089 - val_loss: 12.1056 - val_acc: 0.5153\n",
            "Epoch 386/500\n",
            "60/60 [==============================] - 4s 67ms/step - loss: 0.0832 - acc: 0.9088 - val_loss: 12.0627 - val_acc: 0.5279\n",
            "Epoch 387/500\n",
            "60/60 [==============================] - 4s 67ms/step - loss: 0.0898 - acc: 0.9046 - val_loss: 12.0477 - val_acc: 0.5279\n",
            "Epoch 388/500\n",
            "60/60 [==============================] - 4s 68ms/step - loss: 0.0815 - acc: 0.9077 - val_loss: 12.0344 - val_acc: 0.5342\n",
            "Epoch 389/500\n",
            "60/60 [==============================] - 4s 66ms/step - loss: 0.0835 - acc: 0.9057 - val_loss: 12.0117 - val_acc: 0.5395\n",
            "Epoch 390/500\n",
            "60/60 [==============================] - 4s 68ms/step - loss: 0.0814 - acc: 0.9147 - val_loss: 11.9943 - val_acc: 0.5437\n",
            "Epoch 391/500\n",
            "60/60 [==============================] - 4s 68ms/step - loss: 0.0859 - acc: 0.9066 - val_loss: 12.0685 - val_acc: 0.5248\n",
            "Epoch 392/500\n",
            "60/60 [==============================] - 4s 67ms/step - loss: 0.0839 - acc: 0.9071 - val_loss: 12.0180 - val_acc: 0.5385\n",
            "Epoch 393/500\n",
            "60/60 [==============================] - 4s 67ms/step - loss: 0.0798 - acc: 0.9102 - val_loss: 12.4550 - val_acc: 0.5184\n",
            "Epoch 394/500\n",
            "60/60 [==============================] - 4s 67ms/step - loss: 0.0798 - acc: 0.9114 - val_loss: 12.0472 - val_acc: 0.5311\n",
            "Epoch 395/500\n",
            "60/60 [==============================] - 4s 66ms/step - loss: 0.4337 - acc: 0.7973 - val_loss: 12.2820 - val_acc: 0.5595\n",
            "Epoch 396/500\n",
            "60/60 [==============================] - 4s 67ms/step - loss: 0.0953 - acc: 0.8999 - val_loss: 12.5612 - val_acc: 0.5785\n",
            "Epoch 397/500\n",
            "60/60 [==============================] - 4s 67ms/step - loss: 0.0909 - acc: 0.9112 - val_loss: 12.2147 - val_acc: 0.5764\n",
            "Epoch 398/500\n",
            "60/60 [==============================] - 4s 67ms/step - loss: 0.0934 - acc: 0.9042 - val_loss: 12.3720 - val_acc: 0.5395\n",
            "Epoch 399/500\n",
            "60/60 [==============================] - 4s 66ms/step - loss: 0.0828 - acc: 0.9134 - val_loss: 12.6578 - val_acc: 0.5564\n",
            "Epoch 400/500\n",
            "60/60 [==============================] - 4s 67ms/step - loss: 1.2565 - acc: 0.7952 - val_loss: 14.5680 - val_acc: 0.0959\n",
            "Epoch 401/500\n",
            "60/60 [==============================] - 4s 67ms/step - loss: 0.5187 - acc: 0.7189 - val_loss: 11.6006 - val_acc: 0.3815\n",
            "Epoch 402/500\n",
            "60/60 [==============================] - 4s 67ms/step - loss: 0.1280 - acc: 0.8782 - val_loss: 12.7957 - val_acc: 0.4257\n",
            "Epoch 403/500\n",
            "60/60 [==============================] - 4s 67ms/step - loss: 0.0998 - acc: 0.9025 - val_loss: 12.9517 - val_acc: 0.5195\n",
            "Epoch 404/500\n",
            "60/60 [==============================] - 4s 67ms/step - loss: 0.1055 - acc: 0.8968 - val_loss: 12.4356 - val_acc: 0.5237\n",
            "Epoch 405/500\n",
            "60/60 [==============================] - 4s 66ms/step - loss: 0.0919 - acc: 0.9049 - val_loss: 12.4595 - val_acc: 0.5163\n",
            "Epoch 406/500\n",
            "60/60 [==============================] - 4s 68ms/step - loss: 0.0919 - acc: 0.9028 - val_loss: 12.4190 - val_acc: 0.5279\n",
            "Epoch 407/500\n",
            "60/60 [==============================] - 4s 68ms/step - loss: 0.0879 - acc: 0.9045 - val_loss: 12.0904 - val_acc: 0.5184\n",
            "Epoch 408/500\n",
            "60/60 [==============================] - 4s 67ms/step - loss: 0.0838 - acc: 0.9121 - val_loss: 12.3234 - val_acc: 0.4658\n",
            "Epoch 409/500\n",
            "60/60 [==============================] - 4s 67ms/step - loss: 0.0870 - acc: 0.9074 - val_loss: 12.4726 - val_acc: 0.5142\n",
            "Epoch 410/500\n",
            "60/60 [==============================] - 4s 68ms/step - loss: 0.0896 - acc: 0.9067 - val_loss: 12.0739 - val_acc: 0.5237\n",
            "Epoch 411/500\n",
            "60/60 [==============================] - 4s 67ms/step - loss: 0.0845 - acc: 0.9112 - val_loss: 12.0431 - val_acc: 0.5300\n",
            "Epoch 412/500\n",
            "60/60 [==============================] - 4s 68ms/step - loss: 0.0830 - acc: 0.9081 - val_loss: 12.3710 - val_acc: 0.5385\n",
            "Epoch 413/500\n",
            "60/60 [==============================] - 4s 68ms/step - loss: 0.0841 - acc: 0.9134 - val_loss: 12.4095 - val_acc: 0.5300\n",
            "Epoch 414/500\n",
            "60/60 [==============================] - 4s 68ms/step - loss: 0.0831 - acc: 0.9068 - val_loss: 12.3950 - val_acc: 0.5300\n",
            "Epoch 415/500\n",
            "60/60 [==============================] - 4s 67ms/step - loss: 0.0857 - acc: 0.9080 - val_loss: 12.3408 - val_acc: 0.5469\n",
            "Epoch 416/500\n",
            "60/60 [==============================] - 4s 67ms/step - loss: 0.0781 - acc: 0.9113 - val_loss: 12.3858 - val_acc: 0.5353\n",
            "Epoch 417/500\n",
            "60/60 [==============================] - 4s 66ms/step - loss: 0.0840 - acc: 0.9140 - val_loss: 12.3789 - val_acc: 0.5374\n",
            "Epoch 418/500\n",
            "60/60 [==============================] - 4s 67ms/step - loss: 0.0869 - acc: 0.9092 - val_loss: 12.0175 - val_acc: 0.5374\n",
            "Epoch 419/500\n",
            "60/60 [==============================] - 4s 67ms/step - loss: 0.0883 - acc: 0.9036 - val_loss: 12.3257 - val_acc: 0.5501\n",
            "Epoch 420/500\n",
            "60/60 [==============================] - 4s 67ms/step - loss: 0.0838 - acc: 0.9112 - val_loss: 12.3583 - val_acc: 0.5416\n",
            "Epoch 421/500\n",
            "60/60 [==============================] - 4s 66ms/step - loss: 0.0836 - acc: 0.9107 - val_loss: 12.0279 - val_acc: 0.5353\n",
            "Epoch 422/500\n",
            "60/60 [==============================] - 4s 67ms/step - loss: 0.0882 - acc: 0.9074 - val_loss: 12.3578 - val_acc: 0.5406\n",
            "Epoch 423/500\n",
            "60/60 [==============================] - 4s 67ms/step - loss: 0.0856 - acc: 0.9127 - val_loss: 12.0547 - val_acc: 0.5279\n",
            "Epoch 424/500\n",
            "60/60 [==============================] - 4s 67ms/step - loss: 0.0780 - acc: 0.9099 - val_loss: 12.3256 - val_acc: 0.5490\n",
            "Epoch 425/500\n",
            "60/60 [==============================] - 4s 67ms/step - loss: 0.0868 - acc: 0.9048 - val_loss: 12.3420 - val_acc: 0.5448\n",
            "Epoch 426/500\n",
            "60/60 [==============================] - 4s 67ms/step - loss: 0.0825 - acc: 0.9081 - val_loss: 12.3451 - val_acc: 0.5448\n",
            "Epoch 427/500\n",
            "60/60 [==============================] - 4s 67ms/step - loss: 0.0826 - acc: 0.9052 - val_loss: 12.3504 - val_acc: 0.5437\n",
            "Epoch 428/500\n",
            "60/60 [==============================] - 4s 67ms/step - loss: 0.0814 - acc: 0.9096 - val_loss: 12.4082 - val_acc: 0.5279\n",
            "Epoch 429/500\n",
            "60/60 [==============================] - 4s 67ms/step - loss: 0.0821 - acc: 0.9108 - val_loss: 12.3590 - val_acc: 0.5416\n",
            "Epoch 430/500\n",
            "60/60 [==============================] - 4s 68ms/step - loss: 0.0763 - acc: 0.9130 - val_loss: 12.3815 - val_acc: 0.5364\n",
            "Epoch 431/500\n",
            "60/60 [==============================] - 4s 68ms/step - loss: 0.0788 - acc: 0.9158 - val_loss: 12.3250 - val_acc: 0.5490\n",
            "Epoch 432/500\n",
            "60/60 [==============================] - 4s 67ms/step - loss: 0.0830 - acc: 0.9163 - val_loss: 12.3369 - val_acc: 0.5458\n",
            "Epoch 433/500\n",
            "60/60 [==============================] - 4s 66ms/step - loss: 0.0745 - acc: 0.9153 - val_loss: 12.3382 - val_acc: 0.5469\n",
            "Epoch 434/500\n",
            "60/60 [==============================] - 4s 67ms/step - loss: 0.0828 - acc: 0.9080 - val_loss: 12.2800 - val_acc: 0.5606\n",
            "Epoch 435/500\n",
            "60/60 [==============================] - 4s 66ms/step - loss: 0.0765 - acc: 0.9150 - val_loss: 12.2628 - val_acc: 0.5648\n",
            "Epoch 436/500\n",
            "60/60 [==============================] - 4s 68ms/step - loss: 0.0767 - acc: 0.9110 - val_loss: 12.3233 - val_acc: 0.5501\n",
            "Epoch 437/500\n",
            "60/60 [==============================] - 4s 66ms/step - loss: 0.0761 - acc: 0.9106 - val_loss: 12.3452 - val_acc: 0.5448\n",
            "Epoch 438/500\n",
            "60/60 [==============================] - 4s 67ms/step - loss: 0.0789 - acc: 0.9131 - val_loss: 12.2773 - val_acc: 0.5616\n",
            "Epoch 439/500\n",
            "60/60 [==============================] - 4s 67ms/step - loss: 0.0734 - acc: 0.9141 - val_loss: 12.3006 - val_acc: 0.5543\n",
            "Epoch 440/500\n",
            "60/60 [==============================] - 4s 66ms/step - loss: 0.0816 - acc: 0.9087 - val_loss: 12.3490 - val_acc: 0.5437\n",
            "Epoch 441/500\n",
            "60/60 [==============================] - 4s 71ms/step - loss: 0.0824 - acc: 0.9101 - val_loss: 12.2866 - val_acc: 0.5585\n",
            "Epoch 442/500\n",
            "60/60 [==============================] - 4s 68ms/step - loss: 0.0740 - acc: 0.9163 - val_loss: 12.3008 - val_acc: 0.5553\n",
            "Epoch 443/500\n",
            "60/60 [==============================] - 4s 67ms/step - loss: 0.0761 - acc: 0.9146 - val_loss: 12.2563 - val_acc: 0.5659\n",
            "Epoch 444/500\n",
            "60/60 [==============================] - 4s 68ms/step - loss: 0.0813 - acc: 0.9121 - val_loss: 12.2649 - val_acc: 0.5648\n",
            "Epoch 445/500\n",
            "60/60 [==============================] - 4s 66ms/step - loss: 0.0834 - acc: 0.9095 - val_loss: 12.2292 - val_acc: 0.5732\n",
            "Epoch 446/500\n",
            "60/60 [==============================] - 4s 67ms/step - loss: 0.0771 - acc: 0.9137 - val_loss: 12.2124 - val_acc: 0.5764\n",
            "Epoch 447/500\n",
            "60/60 [==============================] - 4s 67ms/step - loss: 0.0819 - acc: 0.9140 - val_loss: 12.2077 - val_acc: 0.5774\n",
            "Epoch 448/500\n",
            "60/60 [==============================] - 4s 66ms/step - loss: 0.0744 - acc: 0.9147 - val_loss: 12.1988 - val_acc: 0.5796\n",
            "Epoch 449/500\n",
            "60/60 [==============================] - 4s 67ms/step - loss: 0.0800 - acc: 0.9107 - val_loss: 12.1922 - val_acc: 0.5817\n",
            "Epoch 450/500\n",
            "60/60 [==============================] - 4s 67ms/step - loss: 0.0904 - acc: 0.9077 - val_loss: 11.8954 - val_acc: 0.5669\n",
            "Epoch 451/500\n",
            "60/60 [==============================] - 4s 68ms/step - loss: 0.0777 - acc: 0.9096 - val_loss: 12.7150 - val_acc: 0.5869\n",
            "Epoch 452/500\n",
            "60/60 [==============================] - 4s 68ms/step - loss: 0.0743 - acc: 0.9156 - val_loss: 12.8740 - val_acc: 0.5901\n",
            "Epoch 453/500\n",
            "60/60 [==============================] - 4s 65ms/step - loss: 0.0843 - acc: 0.9124 - val_loss: 12.1849 - val_acc: 0.5827\n",
            "Epoch 454/500\n",
            "60/60 [==============================] - 4s 67ms/step - loss: 0.0753 - acc: 0.9164 - val_loss: 12.1711 - val_acc: 0.5869\n",
            "Epoch 455/500\n",
            "60/60 [==============================] - 4s 67ms/step - loss: 0.0745 - acc: 0.9169 - val_loss: 12.1801 - val_acc: 0.5848\n",
            "Epoch 456/500\n",
            "60/60 [==============================] - 4s 66ms/step - loss: 0.0780 - acc: 0.9103 - val_loss: 12.2625 - val_acc: 0.5648\n",
            "Epoch 457/500\n",
            "60/60 [==============================] - 4s 67ms/step - loss: 0.0834 - acc: 0.9088 - val_loss: 12.1845 - val_acc: 0.5838\n",
            "Epoch 458/500\n",
            "60/60 [==============================] - 4s 67ms/step - loss: 0.0809 - acc: 0.9153 - val_loss: 12.2738 - val_acc: 0.5627\n",
            "Epoch 459/500\n",
            "60/60 [==============================] - 4s 67ms/step - loss: 0.0776 - acc: 0.9101 - val_loss: 12.2581 - val_acc: 0.5648\n",
            "Epoch 460/500\n",
            "60/60 [==============================] - 4s 67ms/step - loss: 0.0800 - acc: 0.9116 - val_loss: 12.2884 - val_acc: 0.5585\n",
            "Epoch 461/500\n",
            "60/60 [==============================] - 4s 67ms/step - loss: 0.0761 - acc: 0.9150 - val_loss: 12.2700 - val_acc: 0.5627\n",
            "Epoch 462/500\n",
            "60/60 [==============================] - 4s 67ms/step - loss: 0.0797 - acc: 0.9085 - val_loss: 12.2619 - val_acc: 0.5648\n",
            "Epoch 463/500\n",
            "60/60 [==============================] - 4s 67ms/step - loss: 0.0729 - acc: 0.9150 - val_loss: 12.2158 - val_acc: 0.5764\n",
            "Epoch 464/500\n",
            "60/60 [==============================] - 4s 67ms/step - loss: 0.0779 - acc: 0.9136 - val_loss: 12.2249 - val_acc: 0.5732\n",
            "Epoch 465/500\n",
            "60/60 [==============================] - 4s 68ms/step - loss: 0.0747 - acc: 0.9121 - val_loss: 12.1769 - val_acc: 0.5848\n",
            "Epoch 466/500\n",
            "60/60 [==============================] - 4s 67ms/step - loss: 0.0775 - acc: 0.9118 - val_loss: 12.2613 - val_acc: 0.5648\n",
            "Epoch 467/500\n",
            "60/60 [==============================] - 4s 66ms/step - loss: 0.0733 - acc: 0.9151 - val_loss: 12.2158 - val_acc: 0.5764\n",
            "Epoch 468/500\n",
            "60/60 [==============================] - 4s 67ms/step - loss: 0.0776 - acc: 0.9172 - val_loss: 12.1488 - val_acc: 0.5922\n",
            "Epoch 469/500\n",
            "60/60 [==============================] - 4s 66ms/step - loss: 0.0742 - acc: 0.9171 - val_loss: 12.1717 - val_acc: 0.5848\n",
            "Epoch 470/500\n",
            "60/60 [==============================] - 4s 68ms/step - loss: 0.0714 - acc: 0.9176 - val_loss: 12.1860 - val_acc: 0.5817\n",
            "Epoch 471/500\n",
            "60/60 [==============================] - 4s 67ms/step - loss: 0.0691 - acc: 0.9213 - val_loss: 12.1824 - val_acc: 0.5838\n",
            "Epoch 472/500\n",
            "60/60 [==============================] - 4s 67ms/step - loss: 0.0709 - acc: 0.9168 - val_loss: 12.2409 - val_acc: 0.5690\n",
            "Epoch 473/500\n",
            "60/60 [==============================] - 4s 67ms/step - loss: 0.0727 - acc: 0.9205 - val_loss: 12.1654 - val_acc: 0.5880\n",
            "Epoch 474/500\n",
            "60/60 [==============================] - 4s 67ms/step - loss: 0.0730 - acc: 0.9179 - val_loss: 12.1533 - val_acc: 0.5911\n",
            "Epoch 475/500\n",
            "60/60 [==============================] - 4s 67ms/step - loss: 0.0720 - acc: 0.9137 - val_loss: 12.2877 - val_acc: 0.5564\n",
            "Epoch 476/500\n",
            "60/60 [==============================] - 4s 67ms/step - loss: 0.0758 - acc: 0.9128 - val_loss: 12.1737 - val_acc: 0.5859\n",
            "Epoch 477/500\n",
            "60/60 [==============================] - 4s 66ms/step - loss: 0.1952 - acc: 0.9037 - val_loss: 12.1767 - val_acc: 0.5848\n",
            "Epoch 478/500\n",
            "60/60 [==============================] - 4s 67ms/step - loss: 0.0803 - acc: 0.9137 - val_loss: 12.1839 - val_acc: 0.5838\n",
            "Epoch 479/500\n",
            "60/60 [==============================] - 4s 66ms/step - loss: 0.0747 - acc: 0.9202 - val_loss: 12.1709 - val_acc: 0.5869\n",
            "Epoch 480/500\n",
            "60/60 [==============================] - 4s 67ms/step - loss: 0.0694 - acc: 0.9252 - val_loss: 11.9542 - val_acc: 0.5522\n",
            "Epoch 481/500\n",
            "60/60 [==============================] - 4s 67ms/step - loss: 0.0741 - acc: 0.9183 - val_loss: 12.2464 - val_acc: 0.5680\n",
            "Epoch 482/500\n",
            "60/60 [==============================] - 4s 68ms/step - loss: 1.2048 - acc: 0.7236 - val_loss: 12.2792 - val_acc: 0.4373\n",
            "Epoch 483/500\n",
            "60/60 [==============================] - 4s 68ms/step - loss: 0.1966 - acc: 0.8449 - val_loss: 12.3102 - val_acc: 0.5511\n",
            "Epoch 484/500\n",
            "60/60 [==============================] - 4s 67ms/step - loss: 0.1097 - acc: 0.8965 - val_loss: 12.0361 - val_acc: 0.5332\n",
            "Epoch 485/500\n",
            "60/60 [==============================] - 4s 67ms/step - loss: 0.0988 - acc: 0.9016 - val_loss: 11.9691 - val_acc: 0.5501\n",
            "Epoch 486/500\n",
            "60/60 [==============================] - 4s 66ms/step - loss: 0.0913 - acc: 0.9030 - val_loss: 12.3081 - val_acc: 0.5532\n",
            "Epoch 487/500\n",
            "60/60 [==============================] - 4s 68ms/step - loss: 0.0901 - acc: 0.9021 - val_loss: 12.3150 - val_acc: 0.5522\n",
            "Epoch 488/500\n",
            "60/60 [==============================] - 4s 67ms/step - loss: 0.0906 - acc: 0.9034 - val_loss: 12.3308 - val_acc: 0.5490\n",
            "Epoch 489/500\n",
            "60/60 [==============================] - 4s 67ms/step - loss: 0.0876 - acc: 0.9078 - val_loss: 12.2829 - val_acc: 0.5595\n",
            "Epoch 490/500\n",
            "60/60 [==============================] - 4s 69ms/step - loss: 0.2892 - acc: 0.8642 - val_loss: 14.6359 - val_acc: 0.5975\n",
            "Epoch 491/500\n",
            "60/60 [==============================] - 4s 68ms/step - loss: 0.0940 - acc: 0.9016 - val_loss: 13.5664 - val_acc: 0.5943\n",
            "Epoch 492/500\n",
            "60/60 [==============================] - 4s 68ms/step - loss: 0.1519 - acc: 0.8927 - val_loss: 12.6173 - val_acc: 0.5638\n",
            "Epoch 493/500\n",
            "60/60 [==============================] - 4s 69ms/step - loss: 0.0899 - acc: 0.9086 - val_loss: 13.6207 - val_acc: 0.5806\n",
            "Epoch 494/500\n",
            "60/60 [==============================] - 4s 66ms/step - loss: 0.0946 - acc: 0.9047 - val_loss: 12.6172 - val_acc: 0.5648\n",
            "Epoch 495/500\n",
            "60/60 [==============================] - 4s 68ms/step - loss: 0.0840 - acc: 0.9094 - val_loss: 12.6322 - val_acc: 0.5606\n",
            "Epoch 496/500\n",
            "60/60 [==============================] - 4s 66ms/step - loss: 0.0839 - acc: 0.9085 - val_loss: 13.2904 - val_acc: 0.5764\n",
            "Epoch 497/500\n",
            "60/60 [==============================] - 4s 67ms/step - loss: 0.0834 - acc: 0.9066 - val_loss: 13.6405 - val_acc: 0.5785\n",
            "Epoch 498/500\n",
            "60/60 [==============================] - 4s 66ms/step - loss: 0.0816 - acc: 0.9078 - val_loss: 13.6405 - val_acc: 0.5774\n",
            "Epoch 499/500\n",
            "60/60 [==============================] - 4s 67ms/step - loss: 0.0900 - acc: 0.9009 - val_loss: 12.9104 - val_acc: 0.5796\n",
            "Epoch 500/500\n",
            "60/60 [==============================] - 4s 67ms/step - loss: 0.0963 - acc: 0.9046 - val_loss: 12.3146 - val_acc: 0.5522\n"
          ],
          "name": "stdout"
        }
      ]
    },
    {
      "cell_type": "markdown",
      "metadata": {
        "id": "iomR0ZE8LxqR",
        "colab_type": "text"
      },
      "source": [
        "Now that we know weights and relevance of samples, we can compute measures over the test dataset using this information. In detail, we pass *sample_weights_test* to the evaluation function."
      ]
    },
    {
      "cell_type": "code",
      "metadata": {
        "id": "-K4vHPjYc8jn",
        "colab_type": "code",
        "outputId": "4200a75b-88b5-4162-d6d5-e39f64d3a55d",
        "colab": {
          "base_uri": "https://localhost:8080/",
          "height": 68
        }
      },
      "source": [
        "score = model.evaluate(X_test, Y_test, sample_weight = sample_weights_test, verbose=True)\n",
        "print('Test loss:', score[0])\n",
        "print('Test accuracy:', score[1])"
      ],
      "execution_count": 102,
      "outputs": [
        {
          "output_type": "stream",
          "text": [
            "949/949 [==============================] - 0s 108us/step\n",
            "Test loss: 12.314570805797839\n",
            "Test accuracy: 0.5521601691009875\n"
          ],
          "name": "stdout"
        }
      ]
    },
    {
      "cell_type": "code",
      "metadata": {
        "id": "Aq2ho5ufE7_K",
        "colab_type": "code",
        "colab": {
          "base_uri": "https://localhost:8080/",
          "height": 279
        },
        "outputId": "c0a9ac8b-a14c-4c12-d8c8-e81d84e5aeb4"
      },
      "source": [
        "loss = history.history[\"loss\"]\n",
        "acc = history.history[\"acc\"]\n",
        "plot_acc_loss(acc,loss)"
      ],
      "execution_count": 103,
      "outputs": [
        {
          "output_type": "display_data",
          "data": {
            "image/png": "[encoded data removed]",
            "text/plain": [
              "<Figure size 432x288 with 1 Axes>"
            ]
          },
          "metadata": {
            "tags": []
          }
        }
      ]
    },
    {
      "cell_type": "code",
      "metadata": {
        "id": "grarR4OoTXaj",
        "colab_type": "code",
        "outputId": "a7e4f259-b628-43f3-f4bb-9a36cc12fba0",
        "colab": {
          "base_uri": "https://localhost:8080/",
          "height": 621
        }
      },
      "source": [
        "Y_pred = model.predict(X_test)\n",
        "Y_pred_classes = np.argmax(Y_pred, axis = 1)\n",
        "Y_true = np.argmax(Y_test, axis = 1)\n",
        "confusionMatrix = confusion_matrix(Y_true, Y_pred_classes)\n",
        "f,ax=plt.subplots(figsize=(10,10))\n",
        "sns.heatmap(confusionMatrix, annot=True, linewidths=0.1, cmap = \"gist_yarg_r\", linecolor=\"black\", fmt='.0f', ax=ax)\n",
        "plt.xlabel(\"Prevdicted Label\")\n",
        "plt.ylabel(\"True Label\")\n",
        "plt.title(\"Confusion Matrix\")\n",
        "plt.show()"
      ],
      "execution_count": 105,
      "outputs": [
        {
          "output_type": "display_data",
          "data": {
            "image/png": "[encoded data removed]",
            "text/plain": [
              "<Figure size 720x720 with 2 Axes>"
            ]
          },
          "metadata": {
            "tags": []
          }
        }
      ]
    },
    {
      "cell_type": "markdown",
      "metadata": {
        "id": "8UbiX9EvVkQs",
        "colab_type": "text"
      },
      "source": [
        "Eventually, we notice that performances are not improved at all! Furthermore, the training got quite unstable and accuracy measure on validation data seems to saturate. This behavior can be explained as excessive data shortage that cannot be filled by any data augmentation, not even a properly measured and weighted one."
      ]
    },
    {
      "cell_type": "markdown",
      "metadata": {
        "colab_type": "text",
        "id": "VTbUDbQEoShm"
      },
      "source": [
        "# Apply ZCA preprocessing technique to improve the accuracy"
      ]
    },
    {
      "cell_type": "code",
      "metadata": {
        "id": "oSqk13equFhX",
        "colab_type": "code",
        "colab": {}
      },
      "source": [
        ""
      ],
      "execution_count": 0,
      "outputs": []
    }
  ]
}